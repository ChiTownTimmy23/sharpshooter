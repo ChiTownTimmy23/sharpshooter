{
 "cells": [
  {
   "cell_type": "code",
   "id": "initial_id",
   "metadata": {
    "collapsed": true,
    "ExecuteTime": {
     "end_time": "2024-07-24T15:53:36.758462Z",
     "start_time": "2024-07-24T15:53:36.755278Z"
    }
   },
   "source": [
    "# imports\n",
    "import polars as pl\n",
    "import httpx"
   ],
   "outputs": [],
   "execution_count": 3
  },
  {
   "metadata": {
    "ExecuteTime": {
     "end_time": "2024-07-24T17:40:44.908111Z",
     "start_time": "2024-07-24T17:40:44.878197Z"
    }
   },
   "cell_type": "code",
   "source": [
    "from typing import List, Optional\n",
    "\n",
    "from pydantic import BaseModel, Field\n",
    "\n",
    "\n",
    "class PlayerRating(BaseModel):\n",
    "    acceleration_diff: Optional[int] = None\n",
    "    acceleration_rating: int\n",
    "    age: int\n",
    "    age_diff: Optional[int] = None\n",
    "    agility_diff: Optional[int] = None\n",
    "    agility_rating: int\n",
    "    archetype: str\n",
    "    awareness_diff: Optional[int] = None\n",
    "    awareness_rating: int\n",
    "    bCVision_diff: Optional[int] = None\n",
    "    bCVision_rating: int\n",
    "    blockShedding_diff: Optional[int] = None\n",
    "    blockShedding_rating: int\n",
    "    breakSack_diff: Optional[int] = None\n",
    "    breakSack_rating: int\n",
    "    breakTackle_diff: Optional[int] = None\n",
    "    breakTackle_rating: int\n",
    "    carrying_diff: Optional[int] = None\n",
    "    carrying_rating: int\n",
    "    catchInTraffic_diff: Optional[int] = None\n",
    "    catchInTraffic_rating: int\n",
    "    catching_diff: Optional[int] = None\n",
    "    catching_rating: int\n",
    "    changeOfDirection_diff: Optional[int] = None\n",
    "    changeOfDirection_rating: int\n",
    "    college: str\n",
    "    deepRouteRunning_diff: Optional[int] = None\n",
    "    deepRouteRunning_rating: int\n",
    "    finesseMoves_diff: Optional[int] = None\n",
    "    finesseMoves_rating: int\n",
    "    firstName: str\n",
    "    fullNameForSearch: str\n",
    "    height: int\n",
    "    height_diff: Optional[int] = None\n",
    "    hitPower_diff: Optional[int] = None\n",
    "    hitPower_rating: int\n",
    "    impactBlocking_diff: Optional[int] = None\n",
    "    impactBlocking_rating: int\n",
    "    injury_diff: Optional[int] = None\n",
    "    injury_rating: int\n",
    "    iteration: str\n",
    "    jerseyNum: int\n",
    "    jerseyNum_diff: Optional[int] = None\n",
    "    jumping_diff: Optional[int] = None\n",
    "    jumping_rating: int\n",
    "    jukeMove_diff: Optional[int] = None\n",
    "    jukeMove_rating: int\n",
    "    kickAccuracy_diff: Optional[int] = None\n",
    "    kickAccuracy_rating: int\n",
    "    kickPower_diff: Optional[int] = None\n",
    "    kickPower_rating: int\n",
    "    kickReturn_diff: Optional[int] = None\n",
    "    kickReturn_rating: int\n",
    "    lastName: str\n",
    "    leadBlock_diff: Optional[int] = None\n",
    "    leadBlock_rating: int\n",
    "    manCoverage_diff: Optional[int] = None\n",
    "    manCoverage_rating: int\n",
    "    mediumRouteRunning_diff: Optional[int] = None\n",
    "    mediumRouteRunning_rating: int\n",
    "    overall_diff: Optional[int] = None\n",
    "    overall_rating: int\n",
    "    passBlock_diff: Optional[int] = None\n",
    "    passBlockFinesse_diff: Optional[int] = None\n",
    "    passBlockFinesse_rating: int\n",
    "    passBlockPower_diff: Optional[int] = None\n",
    "    passBlockPower_rating: int\n",
    "    passBlock_rating: int\n",
    "    playAction_diff: Optional[int] = None\n",
    "    playAction_rating: int\n",
    "    playRecognition_diff: Optional[int] = None\n",
    "    playRecognition_rating: int\n",
    "    plyrAssetname: str\n",
    "    plyrBirthdate: str\n",
    "    plyrHandedness: str\n",
    "    plyrPortrait: int\n",
    "    plyrPortrait_diff: Optional[int] = None\n",
    "    position: str\n",
    "    powerMoves_diff: Optional[int] = None\n",
    "    powerMoves_rating: int\n",
    "    press_diff: Optional[int] = None\n",
    "    press_rating: int\n",
    "    primaryKey: int\n",
    "    primaryKey_diff: Optional[int] = None\n",
    "    pursuit_diff: Optional[int] = None\n",
    "    pursuit_rating: int\n",
    "    release_diff: Optional[int] = None\n",
    "    release_rating: int\n",
    "    runBlock_diff: Optional[int] = None\n",
    "    runBlockFinesse_diff: Optional[int] = None\n",
    "    runBlockFinesse_rating: int\n",
    "    runBlockPower_diff: Optional[int] = None\n",
    "    runBlockPower_rating: int\n",
    "    runBlock_rating: int\n",
    "    runningStyle_rating: str\n",
    "    shortRouteRunning_diff: Optional[int] = None\n",
    "    shortRouteRunning_rating: int\n",
    "    signingBonus: int\n",
    "    signingBonus_diff: Optional[int] = None\n",
    "    spectacularCatch_diff: Optional[int] = None\n",
    "    spectacularCatch_rating: int\n",
    "    speed_diff: Optional[int] = None\n",
    "    speed_rating: int\n",
    "    spinMove_diff: Optional[int] = None\n",
    "    spinMove_rating: int\n",
    "    stamina_diff: Optional[int] = None\n",
    "    stamina_rating: int\n",
    "    status: str\n",
    "    stiffArm_diff: Optional[int] = None\n",
    "    stiffArm_rating: int\n",
    "    strength_diff: Optional[int] = None\n",
    "    strength_rating: int\n",
    "    tackle_diff: Optional[int] = None\n",
    "    tackle_rating: int\n",
    "    team: str = Field(alias=\"ost\")\n",
    "    teamId: int\n",
    "    teamId_diff: Optional[int] = None\n",
    "    throwAccuracyDeep_diff: Optional[int] = None\n",
    "    throwAccuracyDeep_rating: int\n",
    "    throwAccuracyMid_diff: Optional[int] = None\n",
    "    throwAccuracyMid_rating: int\n",
    "    throwAccuracyShort_diff: Optional[int] = None\n",
    "    throwAccuracyShort_rating: int\n",
    "    throwOnTheRun_diff: Optional[int] = None\n",
    "    throwOnTheRun_rating: int\n",
    "    throwPower_diff: Optional[int] = None\n",
    "    throwPower_rating: int\n",
    "    throwUnderPressure_diff: Optional[int] = None\n",
    "    throwUnderPressure_rating: int\n",
    "    totalSalary: int\n",
    "    totalSalary_diff: Optional[int] = None\n",
    "    toughness_diff: Optional[int] = None\n",
    "    toughness_rating: int\n",
    "    trucking_diff: Optional[int] = None\n",
    "    trucking_rating: int\n",
    "    weight: int\n",
    "    weight_diff: Optional[int] = None\n",
    "    yearsPro: int\n",
    "    yearsPro_diff: Optional[int] = None\n",
    "    zoneCoverage_diff: Optional[int] = None\n",
    "    zoneCoverage_rating: int\n",
    "\n",
    "    class Config:\n",
    "        populate_by_name = True\n",
    "\n",
    "\n",
    "class RatingsResponse(BaseModel):\n",
    "    count: int\n",
    "    docs: List[PlayerRating]\n"
   ],
   "id": "499c9c3eac11598a",
   "outputs": [],
   "execution_count": 26
  },
  {
   "metadata": {
    "ExecuteTime": {
     "end_time": "2024-07-24T17:40:49.253238Z",
     "start_time": "2024-07-24T17:40:49.250871Z"
    }
   },
   "cell_type": "code",
   "source": "BASE_URL = \"https://ratings-api.ea.com/v2/entities\"",
   "id": "d4b95af5a1a1c6c4",
   "outputs": [],
   "execution_count": 27
  },
  {
   "metadata": {
    "ExecuteTime": {
     "end_time": "2024-07-24T17:40:52.065115Z",
     "start_time": "2024-07-24T17:40:52.062158Z"
    }
   },
   "cell_type": "code",
   "source": [
    "# Create a Function to Read Data from the EA Sports Madden API\n",
    "def get_madden_ratings(game_version: str, iteration: str) -> list[PlayerRating]:\n",
    "    url = f\"{BASE_URL}/{game_version}-ratings?filter=iteration:{iteration}\"\n",
    "    all_ratings = []\n",
    "\n",
    "    with httpx.Client() as client:\n",
    "        response = client.get(url)\n",
    "        data = response.json()\n",
    "        ratings_response = RatingsResponse(**data)\n",
    "        all_ratings.extend(ratings_response.docs)\n",
    "\n",
    "        total_count = ratings_response.count\n",
    "        while len(all_ratings) < total_count:\n",
    "            next_url = f\"{url}&limit=100&offset={len(all_ratings)}\"\n",
    "            response = client.get(next_url)\n",
    "            data = response.json()\n",
    "            ratings_response = RatingsResponse(**data)\n",
    "            all_ratings.extend(ratings_response.docs)\n",
    "\n",
    "    return all_ratings\n"
   ],
   "id": "ad9dd89ad08fa6e8",
   "outputs": [],
   "execution_count": 28
  },
  {
   "metadata": {
    "ExecuteTime": {
     "end_time": "2024-07-24T15:53:36.766383Z",
     "start_time": "2024-07-24T15:53:36.764383Z"
    }
   },
   "cell_type": "code",
   "source": [
    "# Create a function to read parquet data from the NFL Verse repo\n",
    "def get_nflverse_data():\n",
    "    url = 'https://github.com/nflverse/nflverse-data/releases/download/rosters/roster_2024.parquet'\n",
    "    df = pl.read_parquet(url)\n",
    "    return df\n"
   ],
   "id": "12998f41391dd324",
   "outputs": [],
   "execution_count": 5
  },
  {
   "metadata": {
    "ExecuteTime": {
     "end_time": "2024-07-24T17:43:37.246351Z",
     "start_time": "2024-07-24T17:43:36.233512Z"
    }
   },
   "cell_type": "code",
   "source": "nflverse_data = get_nflverse_data()",
   "id": "cc43bf586b2ce8bd",
   "outputs": [],
   "execution_count": 38
  },
  {
   "metadata": {
    "ExecuteTime": {
     "end_time": "2024-07-24T16:01:38.432976Z",
     "start_time": "2024-07-24T16:01:38.423135Z"
    }
   },
   "cell_type": "code",
   "source": [
    "# Create a Function that Gets the Headers of the dataframe and stores them in a list\n",
    "def get_headers(df):\n",
    "    headers_with_types = [(col, df[col].dtype) for col in df.columns]\n",
    "    # Sort by data type first, then alphabetically within each data type\n",
    "    sorted_headers = sorted(headers_with_types, key=lambda x: (str(x[1]), x[0]))\n",
    "    sorted_headers_list = [col for col, dtype in sorted_headers]\n",
    "    return sorted_headers, sorted_headers_list\n"
   ],
   "id": "ae794df34397b85e",
   "outputs": [],
   "execution_count": 21
  },
  {
   "metadata": {
    "ExecuteTime": {
     "end_time": "2024-07-24T16:02:04.868015Z",
     "start_time": "2024-07-24T16:02:04.863129Z"
    }
   },
   "cell_type": "code",
   "source": "sorted_headers, sorted_headers_list = get_headers(data)",
   "id": "b9a719ff7eb92277",
   "outputs": [],
   "execution_count": 22
  },
  {
   "metadata": {
    "ExecuteTime": {
     "end_time": "2024-07-24T16:02:09.622638Z",
     "start_time": "2024-07-24T16:02:09.598353Z"
    }
   },
   "cell_type": "code",
   "source": "sorted_headers",
   "id": "1aab1a4acb5481a7",
   "outputs": [
    {
     "data": {
      "text/plain": [
       "[('birth_date', Date),\n",
       " ('height', Float64),\n",
       " ('draft_number', Int32),\n",
       " ('entry_year', Int32),\n",
       " ('jersey_number', Int32),\n",
       " ('rookie_year', Int32),\n",
       " ('season', Int32),\n",
       " ('week', Int32),\n",
       " ('weight', Int32),\n",
       " ('years_exp', Int32),\n",
       " ('college', String),\n",
       " ('depth_chart_position', String),\n",
       " ('draft_club', String),\n",
       " ('esb_id', String),\n",
       " ('espn_id', String),\n",
       " ('fantasy_data_id', String),\n",
       " ('first_name', String),\n",
       " ('football_name', String),\n",
       " ('full_name', String),\n",
       " ('game_type', String),\n",
       " ('gsis_id', String),\n",
       " ('gsis_it_id', String),\n",
       " ('headshot_url', String),\n",
       " ('last_name', String),\n",
       " ('ngs_position', String),\n",
       " ('pff_id', String),\n",
       " ('pfr_id', String),\n",
       " ('position', String),\n",
       " ('rotowire_id', String),\n",
       " ('sleeper_id', String),\n",
       " ('smart_id', String),\n",
       " ('sportradar_id', String),\n",
       " ('status', String),\n",
       " ('status_description_abbr', String),\n",
       " ('team', String),\n",
       " ('yahoo_id', String)]"
      ]
     },
     "execution_count": 23,
     "metadata": {},
     "output_type": "execute_result"
    }
   ],
   "execution_count": 23
  },
  {
   "metadata": {
    "ExecuteTime": {
     "end_time": "2024-07-24T22:39:28.221725Z",
     "start_time": "2024-07-24T22:39:15.574247Z"
    }
   },
   "cell_type": "code",
   "source": "madden_data = get_madden_ratings(\"m24\", \"super-bowl\")",
   "id": "a622b624afd4b121",
   "outputs": [],
   "execution_count": 71
  },
  {
   "metadata": {
    "ExecuteTime": {
     "end_time": "2024-07-24T17:46:24.766035Z",
     "start_time": "2024-07-24T17:46:24.710871Z"
    }
   },
   "cell_type": "code",
   "source": [
    "# Count the Number\n",
    "len(madden_data)\n",
    "\n",
    "# Count the number of distinct players\n",
    "len(set([player.primaryKey for player in madden_data]))\n",
    "\n",
    "# Let's convert it to a DataFrame\n",
    "madden_df = pl.DataFrame(madden_data)"
   ],
   "id": "876f9af03db7e790",
   "outputs": [],
   "execution_count": 43
  },
  {
   "metadata": {
    "ExecuteTime": {
     "end_time": "2024-07-24T17:43:52.501480Z",
     "start_time": "2024-07-24T17:43:51.561676Z"
    }
   },
   "cell_type": "code",
   "source": [
    "# Let's convert the nflverse data to a DataFrame\n",
    "nflverse_df = get_nflverse_data()\n"
   ],
   "id": "3b60ef50354157f6",
   "outputs": [],
   "execution_count": 40
  },
  {
   "metadata": {
    "ExecuteTime": {
     "end_time": "2024-07-24T17:46:44.375926Z",
     "start_time": "2024-07-24T17:46:44.366903Z"
    }
   },
   "cell_type": "code",
   "source": "madden_df.head()",
   "id": "ed8a59ecc611cf02",
   "outputs": [
    {
     "data": {
      "text/plain": [
       "shape: (5, 141)\n",
       "┌─────────────┬─────────────┬─────┬──────────┬───┬──────────┬────────────┬────────────┬────────────┐\n",
       "│ acceleratio ┆ acceleratio ┆ age ┆ age_diff ┆ … ┆ yearsPro ┆ yearsPro_d ┆ zoneCovera ┆ zoneCovera │\n",
       "│ n_diff      ┆ n_rating    ┆ --- ┆ ---      ┆   ┆ ---      ┆ iff        ┆ ge_diff    ┆ ge_rating  │\n",
       "│ ---         ┆ ---         ┆ i64 ┆ i64      ┆   ┆ i64      ┆ ---        ┆ ---        ┆ ---        │\n",
       "│ i64         ┆ i64         ┆     ┆          ┆   ┆          ┆ i64        ┆ i64        ┆ i64        │\n",
       "╞═════════════╪═════════════╪═════╪══════════╪═══╪══════════╪════════════╪════════════╪════════════╡\n",
       "│ 0           ┆ 71          ┆ 30  ┆ 0        ┆ … ┆ 7        ┆ 0          ┆ 0          ┆ 18         │\n",
       "│ 0           ┆ 90          ┆ 23  ┆ 0        ┆ … ┆ 0        ┆ 0          ┆ 0          ┆ 18         │\n",
       "│ 0           ┆ 92          ┆ 25  ┆ 0        ┆ … ┆ 4        ┆ 0          ┆ 0          ┆ 42         │\n",
       "│ 0           ┆ 75          ┆ 30  ┆ 0        ┆ … ┆ 7        ┆ 0          ┆ 0          ┆ 20         │\n",
       "│ 0           ┆ 90          ┆ 30  ┆ 0        ┆ … ┆ 8        ┆ 0          ┆ 0          ┆ 25         │\n",
       "└─────────────┴─────────────┴─────┴──────────┴───┴──────────┴────────────┴────────────┴────────────┘"
      ],
      "text/html": [
       "<div><style>\n",
       ".dataframe > thead > tr,\n",
       ".dataframe > tbody > tr {\n",
       "  text-align: right;\n",
       "  white-space: pre-wrap;\n",
       "}\n",
       "</style>\n",
       "<small>shape: (5, 141)</small><table border=\"1\" class=\"dataframe\"><thead><tr><th>acceleration_diff</th><th>acceleration_rating</th><th>age</th><th>age_diff</th><th>agility_diff</th><th>agility_rating</th><th>archetype</th><th>awareness_diff</th><th>awareness_rating</th><th>bCVision_diff</th><th>bCVision_rating</th><th>blockShedding_diff</th><th>blockShedding_rating</th><th>breakSack_diff</th><th>breakSack_rating</th><th>breakTackle_diff</th><th>breakTackle_rating</th><th>carrying_diff</th><th>carrying_rating</th><th>catchInTraffic_diff</th><th>catchInTraffic_rating</th><th>catching_diff</th><th>catching_rating</th><th>changeOfDirection_diff</th><th>changeOfDirection_rating</th><th>college</th><th>deepRouteRunning_diff</th><th>deepRouteRunning_rating</th><th>finesseMoves_diff</th><th>finesseMoves_rating</th><th>firstName</th><th>fullNameForSearch</th><th>height</th><th>height_diff</th><th>hitPower_diff</th><th>hitPower_rating</th><th>impactBlocking_diff</th><th>&hellip;</th><th>spinMove_rating</th><th>stamina_diff</th><th>stamina_rating</th><th>status</th><th>stiffArm_diff</th><th>stiffArm_rating</th><th>strength_diff</th><th>strength_rating</th><th>tackle_diff</th><th>tackle_rating</th><th>team</th><th>teamId</th><th>teamId_diff</th><th>throwAccuracyDeep_diff</th><th>throwAccuracyDeep_rating</th><th>throwAccuracyMid_diff</th><th>throwAccuracyMid_rating</th><th>throwAccuracyShort_diff</th><th>throwAccuracyShort_rating</th><th>throwOnTheRun_diff</th><th>throwOnTheRun_rating</th><th>throwPower_diff</th><th>throwPower_rating</th><th>throwUnderPressure_diff</th><th>throwUnderPressure_rating</th><th>totalSalary</th><th>totalSalary_diff</th><th>toughness_diff</th><th>toughness_rating</th><th>trucking_diff</th><th>trucking_rating</th><th>weight</th><th>weight_diff</th><th>yearsPro</th><th>yearsPro_diff</th><th>zoneCoverage_diff</th><th>zoneCoverage_rating</th></tr><tr><td>i64</td><td>i64</td><td>i64</td><td>i64</td><td>i64</td><td>i64</td><td>str</td><td>i64</td><td>i64</td><td>i64</td><td>i64</td><td>i64</td><td>i64</td><td>i64</td><td>i64</td><td>i64</td><td>i64</td><td>i64</td><td>i64</td><td>i64</td><td>i64</td><td>i64</td><td>i64</td><td>i64</td><td>i64</td><td>str</td><td>i64</td><td>i64</td><td>i64</td><td>i64</td><td>str</td><td>str</td><td>i64</td><td>i64</td><td>i64</td><td>i64</td><td>i64</td><td>&hellip;</td><td>i64</td><td>i64</td><td>i64</td><td>str</td><td>i64</td><td>i64</td><td>i64</td><td>i64</td><td>i64</td><td>i64</td><td>str</td><td>i64</td><td>i64</td><td>i64</td><td>i64</td><td>i64</td><td>i64</td><td>i64</td><td>i64</td><td>i64</td><td>i64</td><td>i64</td><td>i64</td><td>i64</td><td>i64</td><td>i64</td><td>i64</td><td>i64</td><td>i64</td><td>i64</td><td>i64</td><td>i64</td><td>i64</td><td>i64</td><td>i64</td><td>i64</td><td>i64</td></tr></thead><tbody><tr><td>0</td><td>71</td><td>30</td><td>0</td><td>0</td><td>77</td><td>&quot;QB_FieldGeneral&quot;</td><td>0</td><td>61</td><td>0</td><td>52</td><td>0</td><td>21</td><td>0</td><td>58</td><td>0</td><td>30</td><td>0</td><td>59</td><td>0</td><td>20</td><td>0</td><td>26</td><td>0</td><td>75</td><td>&quot;Arkansas&quot;</td><td>0</td><td>15</td><td>0</td><td>9</td><td>&quot;Brandon&quot;</td><td>&quot;Brandon Allen&quot;</td><td>74</td><td>0</td><td>0</td><td>11</td><td>0</td><td>&hellip;</td><td>28</td><td>0</td><td>65</td><td>&quot;published&quot;</td><td>0</td><td>31</td><td>0</td><td>56</td><td>0</td><td>24</td><td>&quot;49ers&quot;</td><td>15</td><td>0</td><td>0</td><td>70</td><td>0</td><td>69</td><td>0</td><td>78</td><td>0</td><td>72</td><td>0</td><td>82</td><td>0</td><td>72</td><td>890000</td><td>0</td><td>0</td><td>75</td><td>0</td><td>29</td><td>209</td><td>0</td><td>7</td><td>0</td><td>0</td><td>18</td></tr><tr><td>0</td><td>90</td><td>23</td><td>0</td><td>0</td><td>90</td><td>&quot;WR_Playmaker&quot;</td><td>0</td><td>62</td><td>0</td><td>79</td><td>0</td><td>26</td><td>0</td><td>31</td><td>0</td><td>76</td><td>0</td><td>70</td><td>0</td><td>77</td><td>0</td><td>81</td><td>0</td><td>90</td><td>&quot;Michigan&quot;</td><td>0</td><td>70</td><td>0</td><td>10</td><td>&quot;Ronnie&quot;</td><td>&quot;Ronnie Bell&quot;</td><td>72</td><td>0</td><td>0</td><td>25</td><td>0</td><td>&hellip;</td><td>72</td><td>0</td><td>81</td><td>&quot;published&quot;</td><td>0</td><td>47</td><td>0</td><td>58</td><td>0</td><td>26</td><td>&quot;49ers&quot;</td><td>15</td><td>0</td><td>0</td><td>21</td><td>0</td><td>26</td><td>0</td><td>30</td><td>0</td><td>32</td><td>0</td><td>47</td><td>0</td><td>26</td><td>3830000</td><td>0</td><td>0</td><td>81</td><td>0</td><td>54</td><td>192</td><td>0</td><td>0</td><td>0</td><td>0</td><td>18</td></tr><tr><td>0</td><td>92</td><td>25</td><td>0</td><td>0</td><td>89</td><td>&quot;DE_SmallerSpeedRusher&quot;</td><td>0</td><td>99</td><td>0</td><td>30</td><td>0</td><td>85</td><td>0</td><td>12</td><td>0</td><td>21</td><td>0</td><td>38</td><td>0</td><td>27</td><td>0</td><td>45</td><td>0</td><td>73</td><td>&quot;Ohio State&quot;</td><td>0</td><td>6</td><td>0</td><td>98</td><td>&quot;Nick&quot;</td><td>&quot;Nick Bosa&quot;</td><td>76</td><td>0</td><td>0</td><td>84</td><td>0</td><td>&hellip;</td><td>32</td><td>0</td><td>87</td><td>&quot;published&quot;</td><td>0</td><td>34</td><td>0</td><td>94</td><td>-2</td><td>91</td><td>&quot;49ers&quot;</td><td>15</td><td>0</td><td>0</td><td>6</td><td>0</td><td>6</td><td>0</td><td>6</td><td>0</td><td>6</td><td>0</td><td>25</td><td>0</td><td>14</td><td>89000000</td><td>0</td><td>0</td><td>90</td><td>0</td><td>31</td><td>266</td><td>0</td><td>4</td><td>0</td><td>0</td><td>42</td></tr><tr><td>0</td><td>75</td><td>30</td><td>0</td><td>0</td><td>70</td><td>&quot;C_Agile&quot;</td><td>0</td><td>84</td><td>0</td><td>10</td><td>0</td><td>30</td><td>0</td><td>12</td><td>0</td><td>5</td><td>0</td><td>44</td><td>0</td><td>15</td><td>0</td><td>40</td><td>0</td><td>63</td><td>&quot;UCLA&quot;</td><td>0</td><td>5</td><td>0</td><td>15</td><td>&quot;Jake&quot;</td><td>&quot;Jake Brendel&quot;</td><td>76</td><td>0</td><td>0</td><td>15</td><td>0</td><td>&hellip;</td><td>10</td><td>0</td><td>86</td><td>&quot;published&quot;</td><td>0</td><td>10</td><td>0</td><td>84</td><td>0</td><td>41</td><td>&quot;49ers&quot;</td><td>15</td><td>0</td><td>0</td><td>6</td><td>0</td><td>6</td><td>0</td><td>6</td><td>0</td><td>6</td><td>0</td><td>22</td><td>0</td><td>10</td><td>7850000</td><td>0</td><td>0</td><td>89</td><td>0</td><td>15</td><td>299</td><td>0</td><td>7</td><td>0</td><td>0</td><td>20</td></tr><tr><td>0</td><td>90</td><td>30</td><td>0</td><td>0</td><td>81</td><td>&quot;WR_Physical&quot;</td><td>0</td><td>63</td><td>0</td><td>79</td><td>0</td><td>35</td><td>0</td><td>22</td><td>0</td><td>67</td><td>0</td><td>73</td><td>0</td><td>81</td><td>0</td><td>80</td><td>0</td><td>77</td><td>&quot;Georgia&quot;</td><td>0</td><td>69</td><td>0</td><td>10</td><td>&quot;Chris&quot;</td><td>&quot;Chris Conley&quot;</td><td>75</td><td>0</td><td>30</td><td>45</td><td>0</td><td>&hellip;</td><td>73</td><td>0</td><td>84</td><td>&quot;published&quot;</td><td>0</td><td>66</td><td>0</td><td>69</td><td>5</td><td>40</td><td>&quot;49ers&quot;</td><td>15</td><td>0</td><td>0</td><td>20</td><td>0</td><td>21</td><td>0</td><td>24</td><td>0</td><td>19</td><td>0</td><td>35</td><td>0</td><td>20</td><td>600000</td><td>0</td><td>0</td><td>74</td><td>0</td><td>57</td><td>205</td><td>0</td><td>8</td><td>0</td><td>0</td><td>25</td></tr></tbody></table></div>"
      ]
     },
     "execution_count": 45,
     "metadata": {},
     "output_type": "execute_result"
    }
   ],
   "execution_count": 45
  },
  {
   "metadata": {
    "ExecuteTime": {
     "end_time": "2024-07-24T18:04:22.700155Z",
     "start_time": "2024-07-24T18:04:22.693690Z"
    }
   },
   "cell_type": "code",
   "source": [
    "madden_df = madden_df.with_columns(\n",
    "    pl.col(\"plyrBirthdate\").str.strptime(pl.Date, format=\"%Y-%m-%d\")\n",
    ")"
   ],
   "id": "e21a727db9259126",
   "outputs": [],
   "execution_count": 66
  },
  {
   "metadata": {
    "ExecuteTime": {
     "end_time": "2024-07-24T17:44:23.462709Z",
     "start_time": "2024-07-24T17:44:23.452555Z"
    }
   },
   "cell_type": "code",
   "source": "nflverse_data.head()",
   "id": "a9c942c74aec241d",
   "outputs": [
    {
     "data": {
      "text/plain": [
       "shape: (5, 36)\n",
       "┌────────┬──────┬──────────┬─────────────┬───┬────────────┬─────────────┬────────────┬─────────────┐\n",
       "│ season ┆ team ┆ position ┆ depth_chart ┆ … ┆ entry_year ┆ rookie_year ┆ draft_club ┆ draft_numbe │\n",
       "│ ---    ┆ ---  ┆ ---      ┆ _position   ┆   ┆ ---        ┆ ---         ┆ ---        ┆ r           │\n",
       "│ i32    ┆ str  ┆ str      ┆ ---         ┆   ┆ i32        ┆ i32         ┆ str        ┆ ---         │\n",
       "│        ┆      ┆          ┆ str         ┆   ┆            ┆             ┆            ┆ i32         │\n",
       "╞════════╪══════╪══════════╪═════════════╪═══╪════════════╪═════════════╪════════════╪═════════════╡\n",
       "│ 2024   ┆ NYJ  ┆ QB       ┆ QB          ┆ … ┆ 2005       ┆ 2005        ┆ GB         ┆ 24          │\n",
       "│ 2024   ┆ SEA  ┆ P        ┆ P           ┆ … ┆ 2006       ┆ 2006        ┆ null       ┆ null        │\n",
       "│ 2024   ┆ ARI  ┆ K        ┆ K           ┆ … ┆ 2006       ┆ 2006        ┆ null       ┆ null        │\n",
       "│ 2024   ┆ TEN  ┆ K        ┆ K           ┆ … ┆ 2007       ┆ 2007        ┆ DAL        ┆ 178         │\n",
       "│ 2024   ┆ CAR  ┆ LS       ┆ LS          ┆ … ┆ 2008       ┆ 2008        ┆ null       ┆ null        │\n",
       "└────────┴──────┴──────────┴─────────────┴───┴────────────┴─────────────┴────────────┴─────────────┘"
      ],
      "text/html": [
       "<div><style>\n",
       ".dataframe > thead > tr,\n",
       ".dataframe > tbody > tr {\n",
       "  text-align: right;\n",
       "  white-space: pre-wrap;\n",
       "}\n",
       "</style>\n",
       "<small>shape: (5, 36)</small><table border=\"1\" class=\"dataframe\"><thead><tr><th>season</th><th>team</th><th>position</th><th>depth_chart_position</th><th>jersey_number</th><th>status</th><th>full_name</th><th>first_name</th><th>last_name</th><th>birth_date</th><th>height</th><th>weight</th><th>college</th><th>gsis_id</th><th>espn_id</th><th>sportradar_id</th><th>yahoo_id</th><th>rotowire_id</th><th>pff_id</th><th>pfr_id</th><th>fantasy_data_id</th><th>sleeper_id</th><th>years_exp</th><th>headshot_url</th><th>ngs_position</th><th>week</th><th>game_type</th><th>status_description_abbr</th><th>football_name</th><th>esb_id</th><th>gsis_it_id</th><th>smart_id</th><th>entry_year</th><th>rookie_year</th><th>draft_club</th><th>draft_number</th></tr><tr><td>i32</td><td>str</td><td>str</td><td>str</td><td>i32</td><td>str</td><td>str</td><td>str</td><td>str</td><td>date</td><td>f64</td><td>i32</td><td>str</td><td>str</td><td>str</td><td>str</td><td>str</td><td>str</td><td>str</td><td>str</td><td>str</td><td>str</td><td>i32</td><td>str</td><td>str</td><td>i32</td><td>str</td><td>str</td><td>str</td><td>str</td><td>str</td><td>str</td><td>i32</td><td>i32</td><td>str</td><td>i32</td></tr></thead><tbody><tr><td>2024</td><td>&quot;NYJ&quot;</td><td>&quot;QB&quot;</td><td>&quot;QB&quot;</td><td>8</td><td>&quot;ACT&quot;</td><td>&quot;Aaron Rodgers&quot;</td><td>&quot;Aaron&quot;</td><td>&quot;Rodgers&quot;</td><td>1983-12-02</td><td>74.0</td><td>225</td><td>&quot;California&quot;</td><td>&quot;00-0023459&quot;</td><td>&quot;8439&quot;</td><td>&quot;0ce48193-e2fa-466e-a986-33f751…</td><td>&quot;7200&quot;</td><td>&quot;4307&quot;</td><td>&quot;2241&quot;</td><td>&quot;RodgAa00&quot;</td><td>&quot;2593&quot;</td><td>&quot;96&quot;</td><td>19</td><td>&quot;https://static.www.nfl.com/ima…</td><td>null</td><td>1</td><td>&quot;REG&quot;</td><td>&quot;A01&quot;</td><td>&quot;Aaron&quot;</td><td>&quot;ROD339293&quot;</td><td>&quot;29851&quot;</td><td>&quot;3200524f-4433-9293-a3cf-ad7758…</td><td>2005</td><td>2005</td><td>&quot;GB&quot;</td><td>24</td></tr><tr><td>2024</td><td>&quot;SEA&quot;</td><td>&quot;P&quot;</td><td>&quot;P&quot;</td><td>9</td><td>&quot;RET&quot;</td><td>&quot;Jon Ryan&quot;</td><td>&quot;Jon&quot;</td><td>&quot;Ryan&quot;</td><td>1981-11-26</td><td>72.0</td><td>217</td><td>&quot;Regina (Canada)&quot;</td><td>&quot;00-0023742&quot;</td><td>&quot;10238&quot;</td><td>&quot;f6b48c8b-66ac-47a3-aafc-5addce…</td><td>&quot;8020&quot;</td><td>&quot;7975&quot;</td><td>&quot;3493&quot;</td><td>null</td><td>&quot;3764&quot;</td><td>&quot;135&quot;</td><td>18</td><td>&quot;https://static.www.nfl.com/ima…</td><td>null</td><td>1</td><td>&quot;REG&quot;</td><td>&quot;R02&quot;</td><td>&quot;Jon&quot;</td><td>&quot;RYA229481&quot;</td><td>&quot;30714&quot;</td><td>&quot;32005259-4122-9481-61e2-b493c1…</td><td>2006</td><td>2006</td><td>null</td><td>null</td></tr><tr><td>2024</td><td>&quot;ARI&quot;</td><td>&quot;K&quot;</td><td>&quot;K&quot;</td><td>5</td><td>&quot;ACT&quot;</td><td>&quot;Matt Prater&quot;</td><td>&quot;Matt&quot;</td><td>&quot;Prater&quot;</td><td>1984-08-10</td><td>70.0</td><td>201</td><td>&quot;Central Florida&quot;</td><td>&quot;00-0023853&quot;</td><td>&quot;11122&quot;</td><td>&quot;67f5e782-f91c-4536-9818-cf4a0e…</td><td>&quot;8565&quot;</td><td>&quot;5051&quot;</td><td>&quot;3471&quot;</td><td>null</td><td>&quot;549&quot;</td><td>&quot;17&quot;</td><td>18</td><td>&quot;https://static.www.nfl.com/ima…</td><td>null</td><td>1</td><td>&quot;REG&quot;</td><td>&quot;A01&quot;</td><td>&quot;Matt&quot;</td><td>&quot;PRA143616&quot;</td><td>&quot;31446&quot;</td><td>&quot;32005052-4114-3616-ccef-012710…</td><td>2006</td><td>2006</td><td>null</td><td>null</td></tr><tr><td>2024</td><td>&quot;TEN&quot;</td><td>&quot;K&quot;</td><td>&quot;K&quot;</td><td>6</td><td>&quot;ACT&quot;</td><td>&quot;Nick Folk&quot;</td><td>&quot;Nick&quot;</td><td>&quot;Folk&quot;</td><td>1984-11-05</td><td>73.0</td><td>222</td><td>&quot;Arizona&quot;</td><td>&quot;00-0025565&quot;</td><td>&quot;10621&quot;</td><td>&quot;b37c621e-1125-4c35-bea0-fcabb1…</td><td>&quot;8432&quot;</td><td>&quot;5365&quot;</td><td>null</td><td>&quot;FolkNi20&quot;</td><td>&quot;11694&quot;</td><td>&quot;650&quot;</td><td>17</td><td>&quot;https://static.www.nfl.com/ima…</td><td>null</td><td>1</td><td>&quot;REG&quot;</td><td>&quot;A01&quot;</td><td>&quot;Nick&quot;</td><td>&quot;FOL378021&quot;</td><td>&quot;32371&quot;</td><td>&quot;3200464f-4c37-8021-409f-36e78a…</td><td>2007</td><td>2007</td><td>&quot;DAL&quot;</td><td>178</td></tr><tr><td>2024</td><td>&quot;CAR&quot;</td><td>&quot;LS&quot;</td><td>&quot;LS&quot;</td><td>44</td><td>&quot;ACT&quot;</td><td>&quot;J.J. Jansen&quot;</td><td>&quot;Jeffrey&quot;</td><td>&quot;Jansen&quot;</td><td>1986-01-20</td><td>74.0</td><td>235</td><td>&quot;Notre Dame&quot;</td><td>&quot;00-0026027&quot;</td><td>null</td><td>null</td><td>null</td><td>null</td><td>null</td><td>null</td><td>null</td><td>null</td><td>16</td><td>&quot;https://static.www.nfl.com/ima…</td><td>null</td><td>1</td><td>&quot;REG&quot;</td><td>&quot;A01&quot;</td><td>&quot;J.J.&quot;</td><td>&quot;JAN681650&quot;</td><td>&quot;33557&quot;</td><td>&quot;32004a41-4e68-1650-bdb2-b3ecc6…</td><td>2008</td><td>2008</td><td>null</td><td>null</td></tr></tbody></table></div>"
      ]
     },
     "execution_count": 41,
     "metadata": {},
     "output_type": "execute_result"
    }
   ],
   "execution_count": 41
  },
  {
   "metadata": {
    "ExecuteTime": {
     "end_time": "2024-07-24T17:55:19.779373Z",
     "start_time": "2024-07-24T17:55:19.774592Z"
    }
   },
   "cell_type": "code",
   "source": "print(pl.__version__)",
   "id": "1da29f03fe198fe9",
   "outputs": [
    {
     "name": "stdout",
     "output_type": "stream",
     "text": [
      "1.2.1\n"
     ]
    }
   ],
   "execution_count": 56
  },
  {
   "metadata": {
    "ExecuteTime": {
     "end_time": "2024-07-24T22:40:21.677736Z",
     "start_time": "2024-07-24T22:40:21.648877Z"
    }
   },
   "cell_type": "code",
   "source": [
    "# Let's join the two dataframes on the fullNameForSearch (madden_df) and full_name (nflverse_df) and birth_date columns using Polars\n",
    "full_data = nflverse_df.join(\n",
    "    madden_df,\n",
    "    left_on=[\"full_name\", \"birth_date\"],\n",
    "    right_on=[\"fullNameForSearch\", \"plyrBirthdate\"],\n",
    "    how=\"left\"\n",
    ")"
   ],
   "id": "60a5cd4b277e9b25",
   "outputs": [],
   "execution_count": 72
  },
  {
   "metadata": {
    "ExecuteTime": {
     "end_time": "2024-07-24T22:49:44.857600Z",
     "start_time": "2024-07-24T22:49:44.847477Z"
    }
   },
   "cell_type": "code",
   "source": "filtered_df = full_data.filter(pl.col(\"team_right\") == \"Titans\")",
   "id": "53c278af21b47409",
   "outputs": [],
   "execution_count": 77
  },
  {
   "metadata": {
    "ExecuteTime": {
     "end_time": "2024-07-24T22:49:45.849216Z",
     "start_time": "2024-07-24T22:49:45.821053Z"
    }
   },
   "cell_type": "code",
   "source": "filtered_df",
   "id": "a8aecdda6d0a15c8",
   "outputs": [
    {
     "data": {
      "text/plain": [
       "shape: (36, 175)\n",
       "┌────────┬──────┬──────────┬──────────────┬───┬──────────┬─────────────┬─────────────┬─────────────┐\n",
       "│ season ┆ team ┆ position ┆ depth_chart_ ┆ … ┆ yearsPro ┆ yearsPro_di ┆ zoneCoverag ┆ zoneCoverag │\n",
       "│ ---    ┆ ---  ┆ ---      ┆ position     ┆   ┆ ---      ┆ ff          ┆ e_diff      ┆ e_rating    │\n",
       "│ i32    ┆ str  ┆ str      ┆ ---          ┆   ┆ i64      ┆ ---         ┆ ---         ┆ ---         │\n",
       "│        ┆      ┆          ┆ str          ┆   ┆          ┆ i64         ┆ i64         ┆ i64         │\n",
       "╞════════╪══════╪══════════╪══════════════╪═══╪══════════╪═════════════╪═════════════╪═════════════╡\n",
       "│ 2024   ┆ LAC  ┆ LS       ┆ LS           ┆ … ┆ 11       ┆ 0           ┆ 0           ┆ 21          │\n",
       "│ 2024   ┆ CHI  ┆ WR       ┆ WR           ┆ … ┆ 10       ┆ 0           ┆ 0           ┆ 26          │\n",
       "│ 2024   ┆ LAC  ┆ OL       ┆ C            ┆ … ┆ 9        ┆ 0           ┆ 0           ┆ 12          │\n",
       "│ 2024   ┆ LAC  ┆ DL       ┆ DE           ┆ … ┆ 9        ┆ 0           ┆ 0           ┆ 59          │\n",
       "│ 2024   ┆ DAL  ┆ LB       ┆ ILB          ┆ … ┆ 8        ┆ 0           ┆ 0           ┆ 71          │\n",
       "│ …      ┆ …    ┆ …        ┆ …            ┆ … ┆ …        ┆ …           ┆ …           ┆ …           │\n",
       "│ 2024   ┆ LAC  ┆ LB       ┆ ILB          ┆ … ┆ 0        ┆ 0           ┆ 0           ┆ 64          │\n",
       "│ 2024   ┆ LAC  ┆ WR       ┆ WR           ┆ … ┆ 0        ┆ 0           ┆ 0           ┆ 26          │\n",
       "│ 2024   ┆ LAC  ┆ OL       ┆ G            ┆ … ┆ 0        ┆ 0           ┆ 0           ┆ 11          │\n",
       "│ 2024   ┆ LAC  ┆ DL       ┆ NT           ┆ … ┆ 0        ┆ 0           ┆ 0           ┆ 19          │\n",
       "│ 2024   ┆ LAC  ┆ DL       ┆ DE           ┆ … ┆ 0        ┆ 0           ┆ 0           ┆ 52          │\n",
       "└────────┴──────┴──────────┴──────────────┴───┴──────────┴─────────────┴─────────────┴─────────────┘"
      ],
      "text/html": [
       "<div><style>\n",
       ".dataframe > thead > tr,\n",
       ".dataframe > tbody > tr {\n",
       "  text-align: right;\n",
       "  white-space: pre-wrap;\n",
       "}\n",
       "</style>\n",
       "<small>shape: (36, 175)</small><table border=\"1\" class=\"dataframe\"><thead><tr><th>season</th><th>team</th><th>position</th><th>depth_chart_position</th><th>jersey_number</th><th>status</th><th>full_name</th><th>first_name</th><th>last_name</th><th>birth_date</th><th>height</th><th>weight</th><th>college</th><th>gsis_id</th><th>espn_id</th><th>sportradar_id</th><th>yahoo_id</th><th>rotowire_id</th><th>pff_id</th><th>pfr_id</th><th>fantasy_data_id</th><th>sleeper_id</th><th>years_exp</th><th>headshot_url</th><th>ngs_position</th><th>week</th><th>game_type</th><th>status_description_abbr</th><th>football_name</th><th>esb_id</th><th>gsis_it_id</th><th>smart_id</th><th>entry_year</th><th>rookie_year</th><th>draft_club</th><th>draft_number</th><th>acceleration_diff</th><th>&hellip;</th><th>spinMove_rating</th><th>stamina_diff</th><th>stamina_rating</th><th>status_right</th><th>stiffArm_diff</th><th>stiffArm_rating</th><th>strength_diff</th><th>strength_rating</th><th>tackle_diff</th><th>tackle_rating</th><th>team_right</th><th>teamId</th><th>teamId_diff</th><th>throwAccuracyDeep_diff</th><th>throwAccuracyDeep_rating</th><th>throwAccuracyMid_diff</th><th>throwAccuracyMid_rating</th><th>throwAccuracyShort_diff</th><th>throwAccuracyShort_rating</th><th>throwOnTheRun_diff</th><th>throwOnTheRun_rating</th><th>throwPower_diff</th><th>throwPower_rating</th><th>throwUnderPressure_diff</th><th>throwUnderPressure_rating</th><th>totalSalary</th><th>totalSalary_diff</th><th>toughness_diff</th><th>toughness_rating</th><th>trucking_diff</th><th>trucking_rating</th><th>weight_right</th><th>weight_diff</th><th>yearsPro</th><th>yearsPro_diff</th><th>zoneCoverage_diff</th><th>zoneCoverage_rating</th></tr><tr><td>i32</td><td>str</td><td>str</td><td>str</td><td>i32</td><td>str</td><td>str</td><td>str</td><td>str</td><td>date</td><td>f64</td><td>i32</td><td>str</td><td>str</td><td>str</td><td>str</td><td>str</td><td>str</td><td>str</td><td>str</td><td>str</td><td>str</td><td>i32</td><td>str</td><td>str</td><td>i32</td><td>str</td><td>str</td><td>str</td><td>str</td><td>str</td><td>str</td><td>i32</td><td>i32</td><td>str</td><td>i32</td><td>i64</td><td>&hellip;</td><td>i64</td><td>i64</td><td>i64</td><td>str</td><td>i64</td><td>i64</td><td>i64</td><td>i64</td><td>i64</td><td>i64</td><td>str</td><td>i64</td><td>i64</td><td>i64</td><td>i64</td><td>i64</td><td>i64</td><td>i64</td><td>i64</td><td>i64</td><td>i64</td><td>i64</td><td>i64</td><td>i64</td><td>i64</td><td>i64</td><td>i64</td><td>i64</td><td>i64</td><td>i64</td><td>i64</td><td>i64</td><td>i64</td><td>i64</td><td>i64</td><td>i64</td><td>i64</td></tr></thead><tbody><tr><td>2024</td><td>&quot;LAC&quot;</td><td>&quot;LS&quot;</td><td>&quot;LS&quot;</td><td>47</td><td>&quot;ACT&quot;</td><td>&quot;Josh Harris&quot;</td><td>&quot;Josh&quot;</td><td>&quot;Harris&quot;</td><td>1989-04-27</td><td>73.0</td><td>224</td><td>&quot;Auburn&quot;</td><td>&quot;00-0028845&quot;</td><td>&quot;15151&quot;</td><td>&quot;8bbd5520-52e9-4187-889f-bd4552…</td><td>&quot;26168&quot;</td><td>&quot;3795&quot;</td><td>null</td><td>null</td><td>&quot;14567&quot;</td><td>&quot;1238&quot;</td><td>12</td><td>&quot;https://static.www.nfl.com/ima…</td><td>null</td><td>1</td><td>&quot;REG&quot;</td><td>&quot;A01&quot;</td><td>&quot;Josh&quot;</td><td>&quot;HAR000002&quot;</td><td>&quot;38785&quot;</td><td>&quot;32004841-5200-0002-4939-feff60…</td><td>2012</td><td>2012</td><td>null</td><td>null</td><td>0</td><td>&hellip;</td><td>45</td><td>0</td><td>75</td><td>&quot;published&quot;</td><td>0</td><td>55</td><td>0</td><td>68</td><td>0</td><td>56</td><td>&quot;Chargers&quot;</td><td>8</td><td>0</td><td>0</td><td>10</td><td>0</td><td>10</td><td>0</td><td>10</td><td>0</td><td>10</td><td>0</td><td>25</td><td>0</td><td>10</td><td>3490000</td><td>0</td><td>0</td><td>85</td><td>0</td><td>53</td><td>224</td><td>0</td><td>11</td><td>0</td><td>0</td><td>21</td></tr><tr><td>2024</td><td>&quot;CHI&quot;</td><td>&quot;WR&quot;</td><td>&quot;WR&quot;</td><td>13</td><td>&quot;ACT&quot;</td><td>&quot;Keenan Allen&quot;</td><td>&quot;Keenan&quot;</td><td>&quot;Allen&quot;</td><td>1992-04-27</td><td>74.0</td><td>211</td><td>&quot;California&quot;</td><td>&quot;00-0030279&quot;</td><td>&quot;15818&quot;</td><td>&quot;5f424505-f29f-433c-b3f2-1a143a…</td><td>&quot;26699&quot;</td><td>&quot;8627&quot;</td><td>&quot;7857&quot;</td><td>&quot;AlleKe00&quot;</td><td>&quot;15076&quot;</td><td>&quot;1479&quot;</td><td>11</td><td>&quot;https://static.www.nfl.com/ima…</td><td>null</td><td>1</td><td>&quot;REG&quot;</td><td>&quot;A01&quot;</td><td>&quot;Keenan&quot;</td><td>&quot;ALL532966&quot;</td><td>&quot;40024&quot;</td><td>&quot;3200414c-4c53-2966-dfa9-55ae46…</td><td>2013</td><td>2013</td><td>&quot;SD&quot;</td><td>76</td><td>0</td><td>&hellip;</td><td>83</td><td>0</td><td>92</td><td>&quot;published&quot;</td><td>0</td><td>78</td><td>0</td><td>72</td><td>0</td><td>34</td><td>&quot;Chargers&quot;</td><td>8</td><td>0</td><td>0</td><td>34</td><td>0</td><td>33</td><td>0</td><td>36</td><td>0</td><td>31</td><td>0</td><td>54</td><td>0</td><td>36</td><td>41760000</td><td>0</td><td>0</td><td>93</td><td>0</td><td>71</td><td>211</td><td>0</td><td>10</td><td>0</td><td>0</td><td>26</td></tr><tr><td>2024</td><td>&quot;LAC&quot;</td><td>&quot;OL&quot;</td><td>&quot;C&quot;</td><td>63</td><td>&quot;ACT&quot;</td><td>&quot;Corey Linsley&quot;</td><td>&quot;Corey&quot;</td><td>&quot;Linsley&quot;</td><td>1991-07-27</td><td>75.0</td><td>301</td><td>&quot;Ohio State&quot;</td><td>&quot;00-0031019&quot;</td><td>null</td><td>null</td><td>null</td><td>null</td><td>null</td><td>null</td><td>null</td><td>null</td><td>10</td><td>&quot;https://static.www.nfl.com/ima…</td><td>null</td><td>1</td><td>&quot;REG&quot;</td><td>&quot;A01&quot;</td><td>&quot;Corey&quot;</td><td>&quot;LIN775645&quot;</td><td>&quot;41390&quot;</td><td>&quot;32004c49-4e77-5645-c04e-13f546…</td><td>2014</td><td>2014</td><td>&quot;GB&quot;</td><td>161</td><td>0</td><td>&hellip;</td><td>10</td><td>0</td><td>87</td><td>&quot;published&quot;</td><td>0</td><td>10</td><td>0</td><td>92</td><td>0</td><td>29</td><td>&quot;Chargers&quot;</td><td>8</td><td>0</td><td>0</td><td>6</td><td>0</td><td>6</td><td>0</td><td>6</td><td>0</td><td>6</td><td>0</td><td>26</td><td>0</td><td>16</td><td>46000000</td><td>0</td><td>0</td><td>88</td><td>0</td><td>24</td><td>301</td><td>0</td><td>9</td><td>0</td><td>0</td><td>12</td></tr><tr><td>2024</td><td>&quot;LAC&quot;</td><td>&quot;DL&quot;</td><td>&quot;DE&quot;</td><td>52</td><td>&quot;ACT&quot;</td><td>&quot;Khalil Mack&quot;</td><td>&quot;Khalil&quot;</td><td>&quot;Mack&quot;</td><td>1991-02-22</td><td>75.0</td><td>269</td><td>&quot;Buffalo&quot;</td><td>&quot;00-0031040&quot;</td><td>&quot;16710&quot;</td><td>&quot;33c74bf8-7621-48be-a769-e21970…</td><td>&quot;27533&quot;</td><td>&quot;9251&quot;</td><td>&quot;8640&quot;</td><td>&quot;MackKh00&quot;</td><td>&quot;16323&quot;</td><td>&quot;2036&quot;</td><td>10</td><td>&quot;https://static.www.nfl.com/ima…</td><td>null</td><td>1</td><td>&quot;REG&quot;</td><td>&quot;A01&quot;</td><td>&quot;Khalil&quot;</td><td>&quot;MAC325122&quot;</td><td>&quot;41231&quot;</td><td>&quot;32004d41-4332-5122-ef2d-7d4394…</td><td>2014</td><td>2014</td><td>&quot;OAK&quot;</td><td>5</td><td>0</td><td>&hellip;</td><td>60</td><td>0</td><td>87</td><td>&quot;published&quot;</td><td>0</td><td>51</td><td>0</td><td>87</td><td>0</td><td>86</td><td>&quot;Chargers&quot;</td><td>8</td><td>0</td><td>0</td><td>6</td><td>0</td><td>6</td><td>0</td><td>6</td><td>0</td><td>6</td><td>0</td><td>32</td><td>0</td><td>12</td><td>28880000</td><td>0</td><td>0</td><td>92</td><td>0</td><td>55</td><td>269</td><td>0</td><td>9</td><td>0</td><td>0</td><td>59</td></tr><tr><td>2024</td><td>&quot;DAL&quot;</td><td>&quot;LB&quot;</td><td>&quot;ILB&quot;</td><td>50</td><td>&quot;ACT&quot;</td><td>&quot;Eric Kendricks&quot;</td><td>&quot;Eric-Nathan&quot;</td><td>&quot;Kendricks&quot;</td><td>1992-02-29</td><td>72.0</td><td>232</td><td>&quot;UCLA&quot;</td><td>&quot;00-0031554&quot;</td><td>&quot;2510863&quot;</td><td>&quot;b345f3db-d5aa-43ba-9f17-914c54…</td><td>&quot;28433&quot;</td><td>&quot;10353&quot;</td><td>&quot;9478&quot;</td><td>&quot;KendEr00&quot;</td><td>&quot;16806&quot;</td><td>&quot;2350&quot;</td><td>9</td><td>&quot;https://static.www.nfl.com/ima…</td><td>null</td><td>1</td><td>&quot;REG&quot;</td><td>&quot;A01&quot;</td><td>&quot;Eric&quot;</td><td>&quot;KEN101224&quot;</td><td>&quot;42388&quot;</td><td>&quot;32004b45-4e10-1224-7c6e-cc615b…</td><td>2015</td><td>2015</td><td>&quot;MIN&quot;</td><td>45</td><td>0</td><td>&hellip;</td><td>35</td><td>0</td><td>91</td><td>&quot;published&quot;</td><td>0</td><td>35</td><td>0</td><td>76</td><td>0</td><td>87</td><td>&quot;Chargers&quot;</td><td>8</td><td>0</td><td>0</td><td>6</td><td>0</td><td>6</td><td>0</td><td>6</td><td>0</td><td>6</td><td>0</td><td>24</td><td>0</td><td>10</td><td>7000000</td><td>0</td><td>0</td><td>85</td><td>0</td><td>43</td><td>232</td><td>0</td><td>8</td><td>0</td><td>0</td><td>71</td></tr><tr><td>&hellip;</td><td>&hellip;</td><td>&hellip;</td><td>&hellip;</td><td>&hellip;</td><td>&hellip;</td><td>&hellip;</td><td>&hellip;</td><td>&hellip;</td><td>&hellip;</td><td>&hellip;</td><td>&hellip;</td><td>&hellip;</td><td>&hellip;</td><td>&hellip;</td><td>&hellip;</td><td>&hellip;</td><td>&hellip;</td><td>&hellip;</td><td>&hellip;</td><td>&hellip;</td><td>&hellip;</td><td>&hellip;</td><td>&hellip;</td><td>&hellip;</td><td>&hellip;</td><td>&hellip;</td><td>&hellip;</td><td>&hellip;</td><td>&hellip;</td><td>&hellip;</td><td>&hellip;</td><td>&hellip;</td><td>&hellip;</td><td>&hellip;</td><td>&hellip;</td><td>&hellip;</td><td>&hellip;</td><td>&hellip;</td><td>&hellip;</td><td>&hellip;</td><td>&hellip;</td><td>&hellip;</td><td>&hellip;</td><td>&hellip;</td><td>&hellip;</td><td>&hellip;</td><td>&hellip;</td><td>&hellip;</td><td>&hellip;</td><td>&hellip;</td><td>&hellip;</td><td>&hellip;</td><td>&hellip;</td><td>&hellip;</td><td>&hellip;</td><td>&hellip;</td><td>&hellip;</td><td>&hellip;</td><td>&hellip;</td><td>&hellip;</td><td>&hellip;</td><td>&hellip;</td><td>&hellip;</td><td>&hellip;</td><td>&hellip;</td><td>&hellip;</td><td>&hellip;</td><td>&hellip;</td><td>&hellip;</td><td>&hellip;</td><td>&hellip;</td><td>&hellip;</td><td>&hellip;</td><td>&hellip;</td></tr><tr><td>2024</td><td>&quot;LAC&quot;</td><td>&quot;LB&quot;</td><td>&quot;ILB&quot;</td><td>0</td><td>&quot;ACT&quot;</td><td>&quot;Daiyan Henley&quot;</td><td>&quot;Daiyan&quot;</td><td>&quot;Henley&quot;</td><td>1999-11-18</td><td>73.0</td><td>232</td><td>&quot;Washington State&quot;</td><td>&quot;00-0038553&quot;</td><td>null</td><td>&quot;93f17bc5-55d5-441a-a29d-d419ed…</td><td>&quot;40113&quot;</td><td>&quot;16948&quot;</td><td>null</td><td>&quot;HenlDa00&quot;</td><td>null</td><td>&quot;10914&quot;</td><td>1</td><td>&quot;https://static.www.nfl.com/ima…</td><td>null</td><td>1</td><td>&quot;REG&quot;</td><td>&quot;A01&quot;</td><td>&quot;Daiyan&quot;</td><td>&quot;HEN466212&quot;</td><td>&quot;55950&quot;</td><td>&quot;32004845-4e46-6212-4f0a-603906…</td><td>2023</td><td>2023</td><td>&quot;LAC&quot;</td><td>85</td><td>0</td><td>&hellip;</td><td>64</td><td>0</td><td>88</td><td>&quot;published&quot;</td><td>0</td><td>61</td><td>0</td><td>65</td><td>0</td><td>87</td><td>&quot;Chargers&quot;</td><td>8</td><td>0</td><td>0</td><td>6</td><td>0</td><td>6</td><td>0</td><td>6</td><td>0</td><td>6</td><td>0</td><td>24</td><td>0</td><td>10</td><td>4480000</td><td>0</td><td>0</td><td>85</td><td>0</td><td>60</td><td>225</td><td>0</td><td>0</td><td>0</td><td>0</td><td>64</td></tr><tr><td>2024</td><td>&quot;LAC&quot;</td><td>&quot;WR&quot;</td><td>&quot;WR&quot;</td><td>12</td><td>&quot;ACT&quot;</td><td>&quot;Derius Davis&quot;</td><td>&quot;Derius&quot;</td><td>&quot;Davis&quot;</td><td>2000-09-11</td><td>68.0</td><td>175</td><td>&quot;Texas Christian&quot;</td><td>&quot;00-0038573&quot;</td><td>null</td><td>&quot;21bf2521-3382-4e62-8249-a08343…</td><td>&quot;40133&quot;</td><td>&quot;16939&quot;</td><td>null</td><td>&quot;DaviDe02&quot;</td><td>null</td><td>&quot;10234&quot;</td><td>1</td><td>&quot;https://static.www.nfl.com/ima…</td><td>null</td><td>1</td><td>&quot;REG&quot;</td><td>&quot;A01&quot;</td><td>&quot;Derius&quot;</td><td>&quot;DAV263132&quot;</td><td>&quot;55990&quot;</td><td>&quot;32004441-5626-3132-bab0-4f5a3b…</td><td>2023</td><td>2023</td><td>&quot;LAC&quot;</td><td>125</td><td>0</td><td>&hellip;</td><td>74</td><td>0</td><td>80</td><td>&quot;published&quot;</td><td>0</td><td>36</td><td>0</td><td>59</td><td>0</td><td>34</td><td>&quot;Chargers&quot;</td><td>8</td><td>0</td><td>0</td><td>6</td><td>0</td><td>10</td><td>0</td><td>15</td><td>0</td><td>10</td><td>0</td><td>23</td><td>0</td><td>14</td><td>2000000</td><td>0</td><td>0</td><td>82</td><td>0</td><td>34</td><td>165</td><td>0</td><td>0</td><td>0</td><td>0</td><td>26</td></tr><tr><td>2024</td><td>&quot;LAC&quot;</td><td>&quot;OL&quot;</td><td>&quot;G&quot;</td><td>71</td><td>&quot;ACT&quot;</td><td>&quot;Jordan McFadden&quot;</td><td>&quot;Jordan&quot;</td><td>&quot;McFadden&quot;</td><td>1999-11-16</td><td>74.0</td><td>310</td><td>&quot;Clemson&quot;</td><td>&quot;00-0038595&quot;</td><td>null</td><td>null</td><td>null</td><td>null</td><td>null</td><td>null</td><td>null</td><td>null</td><td>1</td><td>&quot;https://static.www.nfl.com/ima…</td><td>null</td><td>1</td><td>&quot;REG&quot;</td><td>&quot;A01&quot;</td><td>&quot;Jordan&quot;</td><td>&quot;MCF112355&quot;</td><td>&quot;56021&quot;</td><td>&quot;32004d43-4611-2355-9a4f-ced508…</td><td>2023</td><td>2023</td><td>&quot;LAC&quot;</td><td>156</td><td>0</td><td>&hellip;</td><td>10</td><td>0</td><td>85</td><td>&quot;published&quot;</td><td>0</td><td>15</td><td>0</td><td>82</td><td>0</td><td>35</td><td>&quot;Chargers&quot;</td><td>8</td><td>0</td><td>0</td><td>5</td><td>0</td><td>5</td><td>0</td><td>5</td><td>0</td><td>5</td><td>0</td><td>11</td><td>0</td><td>14</td><td>3830000</td><td>0</td><td>0</td><td>85</td><td>0</td><td>20</td><td>303</td><td>0</td><td>0</td><td>0</td><td>0</td><td>11</td></tr><tr><td>2024</td><td>&quot;LAC&quot;</td><td>&quot;DL&quot;</td><td>&quot;NT&quot;</td><td>99</td><td>&quot;ACT&quot;</td><td>&quot;Scott Matlock&quot;</td><td>&quot;Scott&quot;</td><td>&quot;Matlock&quot;</td><td>2000-06-28</td><td>76.0</td><td>300</td><td>&quot;Boise State&quot;</td><td>&quot;00-0038614&quot;</td><td>null</td><td>&quot;9cedc261-40ff-4fe3-80e1-e128dc…</td><td>&quot;40225&quot;</td><td>&quot;16767&quot;</td><td>null</td><td>&quot;MatlSc00&quot;</td><td>null</td><td>&quot;10994&quot;</td><td>1</td><td>&quot;https://static.www.nfl.com/ima…</td><td>null</td><td>1</td><td>&quot;REG&quot;</td><td>&quot;A01&quot;</td><td>&quot;Scott&quot;</td><td>&quot;MAT347280&quot;</td><td>&quot;56065&quot;</td><td>&quot;32004d41-5434-7280-23b6-4ee735…</td><td>2023</td><td>2023</td><td>&quot;LAC&quot;</td><td>200</td><td>0</td><td>&hellip;</td><td>35</td><td>0</td><td>74</td><td>&quot;published&quot;</td><td>0</td><td>35</td><td>0</td><td>85</td><td>0</td><td>75</td><td>&quot;Chargers&quot;</td><td>8</td><td>0</td><td>0</td><td>7</td><td>0</td><td>10</td><td>0</td><td>13</td><td>0</td><td>7</td><td>0</td><td>22</td><td>0</td><td>9</td><td>3830000</td><td>0</td><td>0</td><td>79</td><td>0</td><td>40</td><td>296</td><td>0</td><td>0</td><td>0</td><td>0</td><td>19</td></tr><tr><td>2024</td><td>&quot;LAC&quot;</td><td>&quot;DL&quot;</td><td>&quot;DE&quot;</td><td>45</td><td>&quot;ACT&quot;</td><td>&quot;Tuli Tuipulotu&quot;</td><td>&quot;Tulikihelotu&quot;</td><td>&quot;Tuipulotu&quot;</td><td>2002-09-03</td><td>75.0</td><td>290</td><td>&quot;Southern California&quot;</td><td>&quot;00-0039111&quot;</td><td>null</td><td>&quot;8b3391ab-5126-4ed8-b181-59723f…</td><td>&quot;40077&quot;</td><td>&quot;16822&quot;</td><td>null</td><td>&quot;TuipTu00&quot;</td><td>null</td><td>&quot;10898&quot;</td><td>1</td><td>&quot;https://static.www.nfl.com/ima…</td><td>null</td><td>1</td><td>&quot;REG&quot;</td><td>&quot;A01&quot;</td><td>&quot;Tuli&quot;</td><td>&quot;TUI720077&quot;</td><td>&quot;55919&quot;</td><td>&quot;32005455-4972-0077-cdfc-f4d029…</td><td>2023</td><td>2023</td><td>&quot;LAC&quot;</td><td>54</td><td>0</td><td>&hellip;</td><td>21</td><td>0</td><td>77</td><td>&quot;published&quot;</td><td>0</td><td>39</td><td>0</td><td>88</td><td>0</td><td>81</td><td>&quot;Chargers&quot;</td><td>8</td><td>0</td><td>0</td><td>6</td><td>0</td><td>7</td><td>0</td><td>9</td><td>0</td><td>6</td><td>0</td><td>20</td><td>0</td><td>17</td><td>4600000</td><td>0</td><td>0</td><td>90</td><td>0</td><td>40</td><td>266</td><td>0</td><td>0</td><td>0</td><td>0</td><td>52</td></tr></tbody></table></div>"
      ]
     },
     "execution_count": 78,
     "metadata": {},
     "output_type": "execute_result"
    }
   ],
   "execution_count": 78
  },
  {
   "metadata": {
    "ExecuteTime": {
     "end_time": "2024-07-24T23:35:12.844212Z",
     "start_time": "2024-07-24T23:35:12.816057Z"
    }
   },
   "cell_type": "code",
   "source": "madden_df.filter(((pl.col(\"team\").is_in([\"Titans\", \"Broncos\"])))).sort(by=[\"position\", \"overall_rating\", \"speed_rating\", \"stamina_rating\", \"strength_rating\", \"yearsPro\", \"totalSalary\"], descending=True).select([\"fullNameForSearch\", \"position\", \"team\", \"overall_rating\", \"speed_rating\", \"stamina_rating\", \"strength_rating\", \"yearsPro\", \"totalSalary\"])",
   "id": "740ec62228506d46",
   "outputs": [
    {
     "data": {
      "text/plain": [
       "shape: (130, 9)\n",
       "┌────────────┬──────────┬─────────┬────────────┬───┬────────────┬───────────┬──────────┬───────────┐\n",
       "│ fullNameFo ┆ position ┆ team    ┆ overall_ra ┆ … ┆ stamina_ra ┆ strength_ ┆ yearsPro ┆ totalSala │\n",
       "│ rSearch    ┆ ---      ┆ ---     ┆ ting       ┆   ┆ ting       ┆ rating    ┆ ---      ┆ ry        │\n",
       "│ ---        ┆ str      ┆ str     ┆ ---        ┆   ┆ ---        ┆ ---       ┆ i64      ┆ ---       │\n",
       "│ str        ┆          ┆         ┆ i64        ┆   ┆ i64        ┆ i64       ┆          ┆ i64       │\n",
       "╞════════════╪══════════╪═════════╪════════════╪═══╪════════════╪═══════════╪══════════╪═══════════╡\n",
       "│ DeAndre    ┆ WR       ┆ Titans  ┆ 89         ┆ … ┆ 95         ┆ 78        ┆ 10       ┆ 8510000   │\n",
       "│ Hopkins    ┆          ┆         ┆            ┆   ┆            ┆           ┆          ┆           │\n",
       "│ Courtland  ┆ WR       ┆ Broncos ┆ 84         ┆ … ┆ 88         ┆ 74        ┆ 5        ┆ 45620000  │\n",
       "│ Sutton     ┆          ┆         ┆            ┆   ┆            ┆           ┆          ┆           │\n",
       "│ Jerry      ┆ WR       ┆ Broncos ┆ 81         ┆ … ┆ 90         ┆ 64        ┆ 3        ┆ 2500000   │\n",
       "│ Jeudy      ┆          ┆         ┆            ┆   ┆            ┆           ┆          ┆           │\n",
       "│ Tim        ┆ WR       ┆ Broncos ┆ 78         ┆ … ┆ 88         ┆ 69        ┆ 6        ┆ 15320000  │\n",
       "│ Patrick    ┆          ┆         ┆            ┆   ┆            ┆           ┆          ┆           │\n",
       "│ Marvin     ┆ WR       ┆ Broncos ┆ 76         ┆ … ┆ 84         ┆ 55        ┆ 0        ┆ 4660000   │\n",
       "│ Mims Jr    ┆          ┆         ┆            ┆   ┆            ┆           ┆          ┆           │\n",
       "│ …          ┆ …        ┆ …       ┆ …          ┆ … ┆ …          ┆ …         ┆ …        ┆ …         │\n",
       "│ Anthony    ┆ CB       ┆ Titans  ┆ 61         ┆ … ┆ 83         ┆ 59        ┆ 0        ┆ 2700000   │\n",
       "│ Kendall    ┆          ┆         ┆            ┆   ┆            ┆           ┆          ┆           │\n",
       "│ Lloyd Cush ┆ C        ┆ Broncos ┆ 77         ┆ … ┆ 88         ┆ 85        ┆ 3        ┆ 5030000   │\n",
       "│ enberry    ┆          ┆         ┆            ┆   ┆            ┆           ┆          ┆           │\n",
       "│ III        ┆          ┆         ┆            ┆   ┆            ┆           ┆          ┆           │\n",
       "│ Aaron      ┆ C        ┆ Titans  ┆ 73         ┆ … ┆ 84         ┆ 79        ┆ 3        ┆ 4300000   │\n",
       "│ Brewer     ┆          ┆         ┆            ┆   ┆            ┆           ┆          ┆           │\n",
       "│ Alex       ┆ C        ┆ Broncos ┆ 63         ┆ … ┆ 84         ┆ 86        ┆ 0        ┆ 3830000   │\n",
       "│ Forsyth    ┆          ┆         ┆            ┆   ┆            ┆           ┆          ┆           │\n",
       "│ Corey      ┆ C        ┆ Titans  ┆ 63         ┆ … ┆ 82         ┆ 84        ┆ 5        ┆ 940000    │\n",
       "│ Levin      ┆          ┆         ┆            ┆   ┆            ┆           ┆          ┆           │\n",
       "└────────────┴──────────┴─────────┴────────────┴───┴────────────┴───────────┴──────────┴───────────┘"
      ],
      "text/html": [
       "<div><style>\n",
       ".dataframe > thead > tr,\n",
       ".dataframe > tbody > tr {\n",
       "  text-align: right;\n",
       "  white-space: pre-wrap;\n",
       "}\n",
       "</style>\n",
       "<small>shape: (130, 9)</small><table border=\"1\" class=\"dataframe\"><thead><tr><th>fullNameForSearch</th><th>position</th><th>team</th><th>overall_rating</th><th>speed_rating</th><th>stamina_rating</th><th>strength_rating</th><th>yearsPro</th><th>totalSalary</th></tr><tr><td>str</td><td>str</td><td>str</td><td>i64</td><td>i64</td><td>i64</td><td>i64</td><td>i64</td><td>i64</td></tr></thead><tbody><tr><td>&quot;DeAndre Hopkins&quot;</td><td>&quot;WR&quot;</td><td>&quot;Titans&quot;</td><td>89</td><td>89</td><td>95</td><td>78</td><td>10</td><td>8510000</td></tr><tr><td>&quot;Courtland Sutton&quot;</td><td>&quot;WR&quot;</td><td>&quot;Broncos&quot;</td><td>84</td><td>91</td><td>88</td><td>74</td><td>5</td><td>45620000</td></tr><tr><td>&quot;Jerry Jeudy&quot;</td><td>&quot;WR&quot;</td><td>&quot;Broncos&quot;</td><td>81</td><td>91</td><td>90</td><td>64</td><td>3</td><td>2500000</td></tr><tr><td>&quot;Tim Patrick&quot;</td><td>&quot;WR&quot;</td><td>&quot;Broncos&quot;</td><td>78</td><td>89</td><td>88</td><td>69</td><td>6</td><td>15320000</td></tr><tr><td>&quot;Marvin Mims Jr&quot;</td><td>&quot;WR&quot;</td><td>&quot;Broncos&quot;</td><td>76</td><td>92</td><td>84</td><td>55</td><td>0</td><td>4660000</td></tr><tr><td>&hellip;</td><td>&hellip;</td><td>&hellip;</td><td>&hellip;</td><td>&hellip;</td><td>&hellip;</td><td>&hellip;</td><td>&hellip;</td><td>&hellip;</td></tr><tr><td>&quot;Anthony Kendall&quot;</td><td>&quot;CB&quot;</td><td>&quot;Titans&quot;</td><td>61</td><td>91</td><td>83</td><td>59</td><td>0</td><td>2700000</td></tr><tr><td>&quot;Lloyd Cushenberry III&quot;</td><td>&quot;C&quot;</td><td>&quot;Broncos&quot;</td><td>77</td><td>63</td><td>88</td><td>85</td><td>3</td><td>5030000</td></tr><tr><td>&quot;Aaron Brewer&quot;</td><td>&quot;C&quot;</td><td>&quot;Titans&quot;</td><td>73</td><td>69</td><td>84</td><td>79</td><td>3</td><td>4300000</td></tr><tr><td>&quot;Alex Forsyth&quot;</td><td>&quot;C&quot;</td><td>&quot;Broncos&quot;</td><td>63</td><td>66</td><td>84</td><td>86</td><td>0</td><td>3830000</td></tr><tr><td>&quot;Corey Levin&quot;</td><td>&quot;C&quot;</td><td>&quot;Titans&quot;</td><td>63</td><td>65</td><td>82</td><td>84</td><td>5</td><td>940000</td></tr></tbody></table></div>"
      ]
     },
     "execution_count": 98,
     "metadata": {},
     "output_type": "execute_result"
    }
   ],
   "execution_count": 98
  },
  {
   "metadata": {},
   "cell_type": "code",
   "outputs": [],
   "execution_count": null,
   "source": "",
   "id": "c100b4371cd49b7b"
  }
 ],
 "metadata": {
  "kernelspec": {
   "display_name": "Python 3",
   "language": "python",
   "name": "python3"
  },
  "language_info": {
   "codemirror_mode": {
    "name": "ipython",
    "version": 2
   },
   "file_extension": ".py",
   "mimetype": "text/x-python",
   "name": "python",
   "nbconvert_exporter": "python",
   "pygments_lexer": "ipython2",
   "version": "2.7.6"
  }
 },
 "nbformat": 4,
 "nbformat_minor": 5
}
