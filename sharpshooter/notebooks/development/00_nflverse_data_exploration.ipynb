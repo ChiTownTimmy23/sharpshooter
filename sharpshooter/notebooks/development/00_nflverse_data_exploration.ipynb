{
 "cells": [
  {
   "cell_type": "code",
   "execution_count": 1,
   "metadata": {},
   "outputs": [],
   "source": [
    "import polars as pl"
   ]
  },
  {
   "cell_type": "code",
   "execution_count": 2,
   "metadata": {},
   "outputs": [],
   "source": [
    "\n",
    "url = \"https://github.com/nflverse/nflverse-data/releases/download/player_stats/player_stats.parquet\"\n",
    "df = pl.read_parquet(url)"
   ]
  },
  {
   "cell_type": "code",
   "execution_count": 3,
   "metadata": {},
   "outputs": [
    {
     "data": {
      "text/html": [
       "<div><style>\n",
       ".dataframe > thead > tr,\n",
       ".dataframe > tbody > tr {\n",
       "  text-align: right;\n",
       "  white-space: pre-wrap;\n",
       "}\n",
       "</style>\n",
       "<small>shape: (5, 53)</small><table border=\"1\" class=\"dataframe\"><thead><tr><th>player_id</th><th>player_name</th><th>player_display_name</th><th>position</th><th>position_group</th><th>headshot_url</th><th>recent_team</th><th>season</th><th>week</th><th>season_type</th><th>opponent_team</th><th>completions</th><th>attempts</th><th>passing_yards</th><th>passing_tds</th><th>interceptions</th><th>sacks</th><th>sack_yards</th><th>sack_fumbles</th><th>sack_fumbles_lost</th><th>passing_air_yards</th><th>passing_yards_after_catch</th><th>passing_first_downs</th><th>passing_epa</th><th>passing_2pt_conversions</th><th>pacr</th><th>dakota</th><th>carries</th><th>rushing_yards</th><th>rushing_tds</th><th>rushing_fumbles</th><th>rushing_fumbles_lost</th><th>rushing_first_downs</th><th>rushing_epa</th><th>rushing_2pt_conversions</th><th>receptions</th><th>targets</th><th>receiving_yards</th><th>receiving_tds</th><th>receiving_fumbles</th><th>receiving_fumbles_lost</th><th>receiving_air_yards</th><th>receiving_yards_after_catch</th><th>receiving_first_downs</th><th>receiving_epa</th><th>receiving_2pt_conversions</th><th>racr</th><th>target_share</th><th>air_yards_share</th><th>wopr</th><th>special_teams_tds</th><th>fantasy_points</th><th>fantasy_points_ppr</th></tr><tr><td>str</td><td>str</td><td>str</td><td>str</td><td>str</td><td>str</td><td>str</td><td>i32</td><td>i32</td><td>str</td><td>str</td><td>i32</td><td>i32</td><td>f64</td><td>i32</td><td>f64</td><td>f64</td><td>f64</td><td>i32</td><td>i32</td><td>f64</td><td>f64</td><td>f64</td><td>f64</td><td>i32</td><td>f64</td><td>f64</td><td>i32</td><td>f64</td><td>i32</td><td>f64</td><td>f64</td><td>f64</td><td>f64</td><td>i32</td><td>i32</td><td>i32</td><td>f64</td><td>i32</td><td>f64</td><td>f64</td><td>f64</td><td>f64</td><td>f64</td><td>f64</td><td>i32</td><td>f64</td><td>f64</td><td>f64</td><td>f64</td><td>f64</td><td>f64</td><td>f64</td></tr></thead><tbody><tr><td>&quot;00-0000003&quot;</td><td>null</td><td>&quot;Abdul-Karim al-Jabbar&quot;</td><td>&quot;RB&quot;</td><td>&quot;RB&quot;</td><td>null</td><td>&quot;MIA&quot;</td><td>1999</td><td>1</td><td>&quot;REG&quot;</td><td>&quot;DEN&quot;</td><td>0</td><td>0</td><td>0.0</td><td>0</td><td>0.0</td><td>0.0</td><td>0.0</td><td>0</td><td>0</td><td>0.0</td><td>0.0</td><td>0.0</td><td>null</td><td>0</td><td>null</td><td>null</td><td>16</td><td>60.0</td><td>1</td><td>0.0</td><td>0.0</td><td>4.0</td><td>6.248771</td><td>0</td><td>1</td><td>1</td><td>7.0</td><td>0</td><td>0.0</td><td>0.0</td><td>0.0</td><td>0.0</td><td>0.0</td><td>0.292378</td><td>0</td><td>0.0</td><td>0.052632</td><td>NaN</td><td>NaN</td><td>0.0</td><td>12.7</td><td>13.7</td></tr><tr><td>&quot;00-0000003&quot;</td><td>null</td><td>&quot;Abdul-Karim al-Jabbar&quot;</td><td>&quot;RB&quot;</td><td>&quot;RB&quot;</td><td>null</td><td>&quot;MIA&quot;</td><td>1999</td><td>2</td><td>&quot;REG&quot;</td><td>&quot;ARI&quot;</td><td>0</td><td>0</td><td>0.0</td><td>0</td><td>0.0</td><td>0.0</td><td>0.0</td><td>0</td><td>0</td><td>0.0</td><td>0.0</td><td>0.0</td><td>null</td><td>0</td><td>null</td><td>null</td><td>9</td><td>33.0</td><td>0</td><td>0.0</td><td>0.0</td><td>1.0</td><td>-1.43495</td><td>0</td><td>3</td><td>4</td><td>18.0</td><td>0</td><td>0.0</td><td>0.0</td><td>0.0</td><td>0.0</td><td>1.0</td><td>0.377009</td><td>0</td><td>0.0</td><td>0.117647</td><td>NaN</td><td>NaN</td><td>0.0</td><td>5.1</td><td>8.1</td></tr><tr><td>&quot;00-0000003&quot;</td><td>null</td><td>&quot;Abdul-Karim al-Jabbar&quot;</td><td>&quot;RB&quot;</td><td>&quot;RB&quot;</td><td>null</td><td>&quot;MIA&quot;</td><td>1999</td><td>4</td><td>&quot;REG&quot;</td><td>&quot;BUF&quot;</td><td>0</td><td>0</td><td>0.0</td><td>0</td><td>0.0</td><td>0.0</td><td>0.0</td><td>0</td><td>0</td><td>0.0</td><td>0.0</td><td>0.0</td><td>null</td><td>0</td><td>null</td><td>null</td><td>3</td><td>2.0</td><td>0</td><td>0.0</td><td>0.0</td><td>0.0</td><td>-1.539952</td><td>0</td><td>0</td><td>1</td><td>0.0</td><td>0</td><td>0.0</td><td>0.0</td><td>0.0</td><td>0.0</td><td>0.0</td><td>-0.699578</td><td>0</td><td>null</td><td>0.02381</td><td>NaN</td><td>NaN</td><td>0.0</td><td>0.2</td><td>0.2</td></tr><tr><td>&quot;00-0000003&quot;</td><td>null</td><td>&quot;Abdul-Karim al-Jabbar&quot;</td><td>&quot;RB&quot;</td><td>&quot;RB&quot;</td><td>null</td><td>&quot;CLE&quot;</td><td>1999</td><td>7</td><td>&quot;REG&quot;</td><td>&quot;LA&quot;</td><td>0</td><td>0</td><td>0.0</td><td>0</td><td>0.0</td><td>0.0</td><td>0.0</td><td>0</td><td>0</td><td>0.0</td><td>0.0</td><td>0.0</td><td>null</td><td>0</td><td>null</td><td>null</td><td>6</td><td>27.0</td><td>0</td><td>0.0</td><td>0.0</td><td>0.0</td><td>0.216051</td><td>0</td><td>2</td><td>2</td><td>8.0</td><td>0</td><td>0.0</td><td>0.0</td><td>0.0</td><td>0.0</td><td>0.0</td><td>-0.228454</td><td>0</td><td>0.0</td><td>0.05</td><td>NaN</td><td>NaN</td><td>0.0</td><td>3.5</td><td>5.5</td></tr><tr><td>&quot;00-0000003&quot;</td><td>null</td><td>&quot;Abdul-Karim al-Jabbar&quot;</td><td>&quot;RB&quot;</td><td>&quot;RB&quot;</td><td>null</td><td>&quot;CLE&quot;</td><td>1999</td><td>8</td><td>&quot;REG&quot;</td><td>&quot;NO&quot;</td><td>0</td><td>0</td><td>0.0</td><td>0</td><td>0.0</td><td>0.0</td><td>0.0</td><td>0</td><td>0</td><td>0.0</td><td>0.0</td><td>0.0</td><td>null</td><td>0</td><td>null</td><td>null</td><td>13</td><td>39.0</td><td>0</td><td>0.0</td><td>0.0</td><td>2.0</td><td>-2.972259</td><td>0</td><td>0</td><td>0</td><td>0.0</td><td>0</td><td>0.0</td><td>0.0</td><td>0.0</td><td>0.0</td><td>0.0</td><td>null</td><td>0</td><td>null</td><td>null</td><td>null</td><td>null</td><td>0.0</td><td>3.9</td><td>3.9</td></tr></tbody></table></div>"
      ],
      "text/plain": [
       "shape: (5, 53)\n",
       "┌────────────┬────────────┬────────────┬──────────┬───┬──────┬────────────┬────────────┬───────────┐\n",
       "│ player_id  ┆ player_nam ┆ player_dis ┆ position ┆ … ┆ wopr ┆ special_te ┆ fantasy_po ┆ fantasy_p │\n",
       "│ ---        ┆ e          ┆ play_name  ┆ ---      ┆   ┆ ---  ┆ ams_tds    ┆ ints       ┆ oints_ppr │\n",
       "│ str        ┆ ---        ┆ ---        ┆ str      ┆   ┆ f64  ┆ ---        ┆ ---        ┆ ---       │\n",
       "│            ┆ str        ┆ str        ┆          ┆   ┆      ┆ f64        ┆ f64        ┆ f64       │\n",
       "╞════════════╪════════════╪════════════╪══════════╪═══╪══════╪════════════╪════════════╪═══════════╡\n",
       "│ 00-0000003 ┆ null       ┆ Abdul-Kari ┆ RB       ┆ … ┆ NaN  ┆ 0.0        ┆ 12.7       ┆ 13.7      │\n",
       "│            ┆            ┆ m          ┆          ┆   ┆      ┆            ┆            ┆           │\n",
       "│            ┆            ┆ al-Jabbar  ┆          ┆   ┆      ┆            ┆            ┆           │\n",
       "│ 00-0000003 ┆ null       ┆ Abdul-Kari ┆ RB       ┆ … ┆ NaN  ┆ 0.0        ┆ 5.1        ┆ 8.1       │\n",
       "│            ┆            ┆ m          ┆          ┆   ┆      ┆            ┆            ┆           │\n",
       "│            ┆            ┆ al-Jabbar  ┆          ┆   ┆      ┆            ┆            ┆           │\n",
       "│ 00-0000003 ┆ null       ┆ Abdul-Kari ┆ RB       ┆ … ┆ NaN  ┆ 0.0        ┆ 0.2        ┆ 0.2       │\n",
       "│            ┆            ┆ m          ┆          ┆   ┆      ┆            ┆            ┆           │\n",
       "│            ┆            ┆ al-Jabbar  ┆          ┆   ┆      ┆            ┆            ┆           │\n",
       "│ 00-0000003 ┆ null       ┆ Abdul-Kari ┆ RB       ┆ … ┆ NaN  ┆ 0.0        ┆ 3.5        ┆ 5.5       │\n",
       "│            ┆            ┆ m          ┆          ┆   ┆      ┆            ┆            ┆           │\n",
       "│            ┆            ┆ al-Jabbar  ┆          ┆   ┆      ┆            ┆            ┆           │\n",
       "│ 00-0000003 ┆ null       ┆ Abdul-Kari ┆ RB       ┆ … ┆ null ┆ 0.0        ┆ 3.9        ┆ 3.9       │\n",
       "│            ┆            ┆ m          ┆          ┆   ┆      ┆            ┆            ┆           │\n",
       "│            ┆            ┆ al-Jabbar  ┆          ┆   ┆      ┆            ┆            ┆           │\n",
       "└────────────┴────────────┴────────────┴──────────┴───┴──────┴────────────┴────────────┴───────────┘"
      ]
     },
     "execution_count": 3,
     "metadata": {},
     "output_type": "execute_result"
    }
   ],
   "source": [
    "df.head()\n"
   ]
  },
  {
   "cell_type": "code",
   "execution_count": 16,
   "metadata": {},
   "outputs": [
    {
     "data": {
      "text/plain": [
       "polars.config.Config"
      ]
     },
     "execution_count": 16,
     "metadata": {},
     "output_type": "execute_result"
    }
   ],
   "source": [
    "pl.Config.set_tbl_rows(50)  # Change 50 to any number you prefer"
   ]
  },
  {
   "cell_type": "code",
   "execution_count": 19,
   "metadata": {},
   "outputs": [],
   "source": [
    "post_2020_df = df.filter(\n",
    "    (pl.col(\"recent_team\").is_in([\"BAL\", \"CIN\"])) &\n",
    "    (pl.col(\"opponent_team\").is_in([\"BAL\", \"CIN\"])) &\n",
    "    (pl.col(\"season\") > 2020)\n",
    ").sort(\n",
    "    by=[\n",
    "        \"fantasy_points_ppr\",\n",
    "    ],\n",
    "    descending=True\n",
    ").select([\n",
    "    \"player_display_name\",\n",
    "    \"recent_team\",\n",
    "    \"position\", \n",
    "    \"week\",\n",
    "    \"season\",\n",
    "    \"fantasy_points_ppr\",\n",
    "])"
   ]
  },
  {
   "cell_type": "code",
   "execution_count": 20,
   "metadata": {},
   "outputs": [
    {
     "data": {
      "text/html": [
       "<div><style>\n",
       ".dataframe > thead > tr,\n",
       ".dataframe > tbody > tr {\n",
       "  text-align: right;\n",
       "  white-space: pre-wrap;\n",
       "}\n",
       "</style>\n",
       "<small>shape: (131, 6)</small><table border=\"1\" class=\"dataframe\"><thead><tr><th>player_display_name</th><th>recent_team</th><th>position</th><th>week</th><th>season</th><th>fantasy_points_ppr</th></tr><tr><td>str</td><td>str</td><td>str</td><td>i32</td><td>i32</td><td>f64</td></tr></thead><tbody><tr><td>&quot;Tee Higgins&quot;</td><td>&quot;CIN&quot;</td><td>&quot;WR&quot;</td><td>16</td><td>2021</td><td>43.4</td></tr><tr><td>&quot;Joe Burrow&quot;</td><td>&quot;CIN&quot;</td><td>&quot;QB&quot;</td><td>16</td><td>2021</td><td>38.1</td></tr><tr><td>&quot;Ja&#x27;Marr Chase&quot;</td><td>&quot;CIN&quot;</td><td>&quot;WR&quot;</td><td>7</td><td>2021</td><td>34.1</td></tr><tr><td>&quot;Joe Mixon&quot;</td><td>&quot;CIN&quot;</td><td>&quot;RB&quot;</td><td>16</td><td>2021</td><td>31.5</td></tr><tr><td>&quot;Tee Higgins&quot;</td><td>&quot;CIN&quot;</td><td>&quot;WR&quot;</td><td>2</td><td>2023</td><td>28.9</td></tr><tr><td>&quot;Joe Burrow&quot;</td><td>&quot;CIN&quot;</td><td>&quot;QB&quot;</td><td>7</td><td>2021</td><td>26.64</td></tr><tr><td>&quot;Mark Andrews&quot;</td><td>&quot;BAL&quot;</td><td>&quot;TE&quot;</td><td>16</td><td>2021</td><td>26.5</td></tr><tr><td>&quot;C.J. Uzomah&quot;</td><td>&quot;CIN&quot;</td><td>&quot;TE&quot;</td><td>7</td><td>2021</td><td>24.1</td></tr><tr><td>&quot;Lamar Jackson&quot;</td><td>&quot;BAL&quot;</td><td>&quot;QB&quot;</td><td>11</td><td>2023</td><td>23.96</td></tr><tr><td>&quot;Ja&#x27;Marr Chase&quot;</td><td>&quot;CIN&quot;</td><td>&quot;WR&quot;</td><td>19</td><td>2022</td><td>23.4</td></tr><tr><td>&quot;Lamar Jackson&quot;</td><td>&quot;BAL&quot;</td><td>&quot;QB&quot;</td><td>7</td><td>2021</td><td>23.08</td></tr><tr><td>&quot;Mark Andrews&quot;</td><td>&quot;BAL&quot;</td><td>&quot;TE&quot;</td><td>5</td><td>2022</td><td>22.9</td></tr><tr><td>&quot;Lamar Jackson&quot;</td><td>&quot;BAL&quot;</td><td>&quot;QB&quot;</td><td>2</td><td>2023</td><td>22.88</td></tr><tr><td>&quot;Ja&#x27;Marr Chase&quot;</td><td>&quot;CIN&quot;</td><td>&quot;WR&quot;</td><td>18</td><td>2022</td><td>22.6</td></tr><tr><td>&quot;Joe Burrow&quot;</td><td>&quot;CIN&quot;</td><td>&quot;QB&quot;</td><td>19</td><td>2022</td><td>21.26</td></tr><tr><td>&quot;Joe Mixon&quot;</td><td>&quot;CIN&quot;</td><td>&quot;RB&quot;</td><td>11</td><td>2023</td><td>21.0</td></tr><tr><td>&quot;Gus Edwards&quot;</td><td>&quot;BAL&quot;</td><td>&quot;RB&quot;</td><td>11</td><td>2023</td><td>21.0</td></tr><tr><td>&quot;J.K. Dobbins&quot;</td><td>&quot;BAL&quot;</td><td>&quot;RB&quot;</td><td>19</td><td>2022</td><td>20.5</td></tr><tr><td>&quot;Ja&#x27;Marr Chase&quot;</td><td>&quot;CIN&quot;</td><td>&quot;WR&quot;</td><td>16</td><td>2021</td><td>19.5</td></tr><tr><td>&quot;Josh Johnson&quot;</td><td>&quot;BAL&quot;</td><td>&quot;QB&quot;</td><td>16</td><td>2021</td><td>19.16</td></tr><tr><td>&quot;Marquise Brown&quot;</td><td>&quot;BAL&quot;</td><td>&quot;WR&quot;</td><td>7</td><td>2021</td><td>19.0</td></tr><tr><td>&quot;Tyler Huntley&quot;</td><td>&quot;BAL&quot;</td><td>&quot;QB&quot;</td><td>19</td><td>2022</td><td>18.44</td></tr><tr><td>&quot;Isaiah Likely&quot;</td><td>&quot;BAL&quot;</td><td>&quot;TE&quot;</td><td>18</td><td>2022</td><td>18.3</td></tr><tr><td>&quot;Joe Mixon&quot;</td><td>&quot;CIN&quot;</td><td>&quot;RB&quot;</td><td>18</td><td>2022</td><td>17.8</td></tr><tr><td>&quot;Tyler Boyd&quot;</td><td>&quot;CIN&quot;</td><td>&quot;WR&quot;</td><td>16</td><td>2021</td><td>17.5</td></tr><tr><td>&hellip;</td><td>&hellip;</td><td>&hellip;</td><td>&hellip;</td><td>&hellip;</td><td>&hellip;</td></tr><tr><td>&quot;Trayveon Williams&quot;</td><td>&quot;CIN&quot;</td><td>&quot;RB&quot;</td><td>11</td><td>2023</td><td>2.0</td></tr><tr><td>&quot;Devin Duvernay&quot;</td><td>&quot;BAL&quot;</td><td>&quot;WR&quot;</td><td>7</td><td>2021</td><td>1.9</td></tr><tr><td>&quot;Demarcus Robinson&quot;</td><td>&quot;BAL&quot;</td><td>&quot;WR&quot;</td><td>5</td><td>2022</td><td>1.8</td></tr><tr><td>&quot;Tylan Wallace&quot;</td><td>&quot;BAL&quot;</td><td>&quot;WR&quot;</td><td>5</td><td>2022</td><td>1.8</td></tr><tr><td>&quot;Isaiah Likely&quot;</td><td>&quot;BAL&quot;</td><td>&quot;TE&quot;</td><td>2</td><td>2023</td><td>1.8</td></tr><tr><td>&quot;James Proche&quot;</td><td>&quot;BAL&quot;</td><td>&quot;WR&quot;</td><td>5</td><td>2022</td><td>1.7</td></tr><tr><td>&quot;Tee Higgins&quot;</td><td>&quot;CIN&quot;</td><td>&quot;WR&quot;</td><td>18</td><td>2022</td><td>1.7</td></tr><tr><td>&quot;Justice Hill&quot;</td><td>&quot;BAL&quot;</td><td>&quot;RB&quot;</td><td>11</td><td>2023</td><td>1.7</td></tr><tr><td>&quot;Gus Edwards&quot;</td><td>&quot;BAL&quot;</td><td>&quot;RB&quot;</td><td>18</td><td>2022</td><td>1.6</td></tr><tr><td>&quot;Tyler Huntley&quot;</td><td>&quot;BAL&quot;</td><td>&quot;QB&quot;</td><td>7</td><td>2021</td><td>1.56</td></tr><tr><td>&quot;Devin Duvernay&quot;</td><td>&quot;BAL&quot;</td><td>&quot;WR&quot;</td><td>2</td><td>2023</td><td>1.5</td></tr><tr><td>&quot;Le&#x27;Veon Bell&quot;</td><td>&quot;BAL&quot;</td><td>&quot;RB&quot;</td><td>7</td><td>2021</td><td>1.4</td></tr><tr><td>&quot;Mike Davis&quot;</td><td>&quot;BAL&quot;</td><td>&quot;RB&quot;</td><td>5</td><td>2022</td><td>0.3</td></tr><tr><td>&quot;Samaje Perine&quot;</td><td>&quot;CIN&quot;</td><td>&quot;RB&quot;</td><td>19</td><td>2022</td><td>0.3</td></tr><tr><td>&quot;Chase Brown&quot;</td><td>&quot;CIN&quot;</td><td>&quot;RB&quot;</td><td>2</td><td>2023</td><td>0.2</td></tr><tr><td>&quot;Chris Evans&quot;</td><td>&quot;CIN&quot;</td><td>&quot;RB&quot;</td><td>16</td><td>2021</td><td>0.1</td></tr><tr><td>&quot;James Proche&quot;</td><td>&quot;BAL&quot;</td><td>&quot;WR&quot;</td><td>7</td><td>2021</td><td>0.0</td></tr><tr><td>&quot;Patrick Ricard&quot;</td><td>&quot;BAL&quot;</td><td>&quot;FB&quot;</td><td>19</td><td>2022</td><td>0.0</td></tr><tr><td>&quot;Josh Oliver&quot;</td><td>&quot;BAL&quot;</td><td>&quot;TE&quot;</td><td>5</td><td>2022</td><td>0.0</td></tr><tr><td>&quot;Josh Oliver&quot;</td><td>&quot;BAL&quot;</td><td>&quot;TE&quot;</td><td>18</td><td>2022</td><td>0.0</td></tr><tr><td>&quot;Stanley Morgan&quot;</td><td>&quot;CIN&quot;</td><td>&quot;WR&quot;</td><td>5</td><td>2022</td><td>0.0</td></tr><tr><td>&quot;James Proche&quot;</td><td>&quot;BAL&quot;</td><td>&quot;WR&quot;</td><td>18</td><td>2022</td><td>0.0</td></tr><tr><td>&quot;Irv Smith&quot;</td><td>&quot;CIN&quot;</td><td>&quot;TE&quot;</td><td>11</td><td>2023</td><td>0.0</td></tr><tr><td>&quot;Isaiah Likely&quot;</td><td>&quot;BAL&quot;</td><td>&quot;TE&quot;</td><td>11</td><td>2023</td><td>0.0</td></tr><tr><td>&quot;Shedrick Jackson&quot;</td><td>&quot;CIN&quot;</td><td>&quot;WR&quot;</td><td>11</td><td>2023</td><td>0.0</td></tr></tbody></table></div>"
      ],
      "text/plain": [
       "shape: (131, 6)\n",
       "┌─────────────────────┬─────────────┬──────────┬──────┬────────┬────────────────────┐\n",
       "│ player_display_name ┆ recent_team ┆ position ┆ week ┆ season ┆ fantasy_points_ppr │\n",
       "│ ---                 ┆ ---         ┆ ---      ┆ ---  ┆ ---    ┆ ---                │\n",
       "│ str                 ┆ str         ┆ str      ┆ i32  ┆ i32    ┆ f64                │\n",
       "╞═════════════════════╪═════════════╪══════════╪══════╪════════╪════════════════════╡\n",
       "│ Tee Higgins         ┆ CIN         ┆ WR       ┆ 16   ┆ 2021   ┆ 43.4               │\n",
       "│ Joe Burrow          ┆ CIN         ┆ QB       ┆ 16   ┆ 2021   ┆ 38.1               │\n",
       "│ Ja'Marr Chase       ┆ CIN         ┆ WR       ┆ 7    ┆ 2021   ┆ 34.1               │\n",
       "│ Joe Mixon           ┆ CIN         ┆ RB       ┆ 16   ┆ 2021   ┆ 31.5               │\n",
       "│ Tee Higgins         ┆ CIN         ┆ WR       ┆ 2    ┆ 2023   ┆ 28.9               │\n",
       "│ Joe Burrow          ┆ CIN         ┆ QB       ┆ 7    ┆ 2021   ┆ 26.64              │\n",
       "│ Mark Andrews        ┆ BAL         ┆ TE       ┆ 16   ┆ 2021   ┆ 26.5               │\n",
       "│ C.J. Uzomah         ┆ CIN         ┆ TE       ┆ 7    ┆ 2021   ┆ 24.1               │\n",
       "│ Lamar Jackson       ┆ BAL         ┆ QB       ┆ 11   ┆ 2023   ┆ 23.96              │\n",
       "│ Ja'Marr Chase       ┆ CIN         ┆ WR       ┆ 19   ┆ 2022   ┆ 23.4               │\n",
       "│ Lamar Jackson       ┆ BAL         ┆ QB       ┆ 7    ┆ 2021   ┆ 23.08              │\n",
       "│ Mark Andrews        ┆ BAL         ┆ TE       ┆ 5    ┆ 2022   ┆ 22.9               │\n",
       "│ Lamar Jackson       ┆ BAL         ┆ QB       ┆ 2    ┆ 2023   ┆ 22.88              │\n",
       "│ Ja'Marr Chase       ┆ CIN         ┆ WR       ┆ 18   ┆ 2022   ┆ 22.6               │\n",
       "│ Joe Burrow          ┆ CIN         ┆ QB       ┆ 19   ┆ 2022   ┆ 21.26              │\n",
       "│ Joe Mixon           ┆ CIN         ┆ RB       ┆ 11   ┆ 2023   ┆ 21.0               │\n",
       "│ Gus Edwards         ┆ BAL         ┆ RB       ┆ 11   ┆ 2023   ┆ 21.0               │\n",
       "│ J.K. Dobbins        ┆ BAL         ┆ RB       ┆ 19   ┆ 2022   ┆ 20.5               │\n",
       "│ Ja'Marr Chase       ┆ CIN         ┆ WR       ┆ 16   ┆ 2021   ┆ 19.5               │\n",
       "│ Josh Johnson        ┆ BAL         ┆ QB       ┆ 16   ┆ 2021   ┆ 19.16              │\n",
       "│ Marquise Brown      ┆ BAL         ┆ WR       ┆ 7    ┆ 2021   ┆ 19.0               │\n",
       "│ Tyler Huntley       ┆ BAL         ┆ QB       ┆ 19   ┆ 2022   ┆ 18.44              │\n",
       "│ Isaiah Likely       ┆ BAL         ┆ TE       ┆ 18   ┆ 2022   ┆ 18.3               │\n",
       "│ Joe Mixon           ┆ CIN         ┆ RB       ┆ 18   ┆ 2022   ┆ 17.8               │\n",
       "│ Tyler Boyd          ┆ CIN         ┆ WR       ┆ 16   ┆ 2021   ┆ 17.5               │\n",
       "│ …                   ┆ …           ┆ …        ┆ …    ┆ …      ┆ …                  │\n",
       "│ Trayveon Williams   ┆ CIN         ┆ RB       ┆ 11   ┆ 2023   ┆ 2.0                │\n",
       "│ Devin Duvernay      ┆ BAL         ┆ WR       ┆ 7    ┆ 2021   ┆ 1.9                │\n",
       "│ Demarcus Robinson   ┆ BAL         ┆ WR       ┆ 5    ┆ 2022   ┆ 1.8                │\n",
       "│ Tylan Wallace       ┆ BAL         ┆ WR       ┆ 5    ┆ 2022   ┆ 1.8                │\n",
       "│ Isaiah Likely       ┆ BAL         ┆ TE       ┆ 2    ┆ 2023   ┆ 1.8                │\n",
       "│ James Proche        ┆ BAL         ┆ WR       ┆ 5    ┆ 2022   ┆ 1.7                │\n",
       "│ Tee Higgins         ┆ CIN         ┆ WR       ┆ 18   ┆ 2022   ┆ 1.7                │\n",
       "│ Justice Hill        ┆ BAL         ┆ RB       ┆ 11   ┆ 2023   ┆ 1.7                │\n",
       "│ Gus Edwards         ┆ BAL         ┆ RB       ┆ 18   ┆ 2022   ┆ 1.6                │\n",
       "│ Tyler Huntley       ┆ BAL         ┆ QB       ┆ 7    ┆ 2021   ┆ 1.56               │\n",
       "│ Devin Duvernay      ┆ BAL         ┆ WR       ┆ 2    ┆ 2023   ┆ 1.5                │\n",
       "│ Le'Veon Bell        ┆ BAL         ┆ RB       ┆ 7    ┆ 2021   ┆ 1.4                │\n",
       "│ Mike Davis          ┆ BAL         ┆ RB       ┆ 5    ┆ 2022   ┆ 0.3                │\n",
       "│ Samaje Perine       ┆ CIN         ┆ RB       ┆ 19   ┆ 2022   ┆ 0.3                │\n",
       "│ Chase Brown         ┆ CIN         ┆ RB       ┆ 2    ┆ 2023   ┆ 0.2                │\n",
       "│ Chris Evans         ┆ CIN         ┆ RB       ┆ 16   ┆ 2021   ┆ 0.1                │\n",
       "│ James Proche        ┆ BAL         ┆ WR       ┆ 7    ┆ 2021   ┆ 0.0                │\n",
       "│ Patrick Ricard      ┆ BAL         ┆ FB       ┆ 19   ┆ 2022   ┆ 0.0                │\n",
       "│ Josh Oliver         ┆ BAL         ┆ TE       ┆ 5    ┆ 2022   ┆ 0.0                │\n",
       "│ Josh Oliver         ┆ BAL         ┆ TE       ┆ 18   ┆ 2022   ┆ 0.0                │\n",
       "│ Stanley Morgan      ┆ CIN         ┆ WR       ┆ 5    ┆ 2022   ┆ 0.0                │\n",
       "│ James Proche        ┆ BAL         ┆ WR       ┆ 18   ┆ 2022   ┆ 0.0                │\n",
       "│ Irv Smith           ┆ CIN         ┆ TE       ┆ 11   ┆ 2023   ┆ 0.0                │\n",
       "│ Isaiah Likely       ┆ BAL         ┆ TE       ┆ 11   ┆ 2023   ┆ 0.0                │\n",
       "│ Shedrick Jackson    ┆ CIN         ┆ WR       ┆ 11   ┆ 2023   ┆ 0.0                │\n",
       "└─────────────────────┴─────────────┴──────────┴──────┴────────┴────────────────────┘"
      ]
     },
     "execution_count": 20,
     "metadata": {},
     "output_type": "execute_result"
    }
   ],
   "source": [
    "post_2020_df"
   ]
  },
  {
   "cell_type": "code",
   "execution_count": null,
   "metadata": {},
   "outputs": [],
   "source": []
  }
 ],
 "metadata": {
  "kernelspec": {
   "display_name": ".venv",
   "language": "python",
   "name": "python3"
  },
  "language_info": {
   "codemirror_mode": {
    "name": "ipython",
    "version": 3
   },
   "file_extension": ".py",
   "mimetype": "text/x-python",
   "name": "python",
   "nbconvert_exporter": "python",
   "pygments_lexer": "ipython3",
   "version": "3.10.11"
  }
 },
 "nbformat": 4,
 "nbformat_minor": 2
}
